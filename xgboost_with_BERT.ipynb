{
 "cells": [
  {
   "cell_type": "code",
   "execution_count": 1,
   "metadata": {},
   "outputs": [
    {
     "name": "stderr",
     "output_type": "stream",
     "text": [
      "/home/jonhue/projects/jonhue/twitter-sentiment-classification/venv/lib/python3.8/site-packages/tqdm/auto.py:22: TqdmWarning: IProgress not found. Please update jupyter and ipywidgets. See https://ipywidgets.readthedocs.io/en/stable/user_install.html\n",
      "  from .autonotebook import tqdm as notebook_tqdm\n"
     ]
    }
   ],
   "source": [
    "import logging\n",
    "import torch\n",
    "import numpy as np\n",
    "import pandas as pd\n",
    "from transformers import AutoTokenizer, Trainer\n",
    "from datasets import Dataset, ClassLabel"
   ]
  },
  {
   "cell_type": "code",
   "execution_count": 2,
   "metadata": {},
   "outputs": [
    {
     "name": "stderr",
     "output_type": "stream",
     "text": [
      "[nltk_data] Downloading package stopwords to /home/jonhue/nltk_data...\n",
      "[nltk_data]   Package stopwords is already up-to-date!\n",
      "[nltk_data] Downloading package omw-1.4 to /home/jonhue/nltk_data...\n",
      "[nltk_data]   Package omw-1.4 is already up-to-date!\n",
      "[nltk_data] Downloading package wordnet to /home/jonhue/nltk_data...\n",
      "[nltk_data]   Package wordnet is already up-to-date!\n"
     ]
    }
   ],
   "source": [
    "from train_test_split import select_train_with_cluster, select_eval_with_cluster\n",
    "from preprocessing import preprocess\n",
    "from evaluation import evaluate\n",
    "from bert import tokenize, get_BERT, prepare_dataset, compute_metrics"
   ]
  },
  {
   "cell_type": "code",
   "execution_count": 3,
   "metadata": {},
   "outputs": [],
   "source": [
    "logging.basicConfig(level=logging.INFO)"
   ]
  },
  {
   "cell_type": "code",
   "execution_count": 4,
   "metadata": {},
   "outputs": [
    {
     "data": {
      "text/plain": [
       "'cuda'"
      ]
     },
     "execution_count": 4,
     "metadata": {},
     "output_type": "execute_result"
    }
   ],
   "source": [
    "device = 'cuda' if torch.cuda.is_available() else 'cpu'\n",
    "device"
   ]
  },
  {
   "cell_type": "code",
   "execution_count": null,
   "metadata": {},
   "outputs": [],
   "source": [
    "MODEL = 'cardiffnlp/twitter-roberta-base-sentiment-latest' # 'cardiffnlp/twitter-roberta-base-sentiment-latest'\n",
    "TOKENIZER = 'cardiffnlp/twitter-roberta-base-sentiment-latest'"
   ]
  },
  {
   "cell_type": "code",
   "execution_count": null,
   "metadata": {
    "colab": {
     "base_uri": "https://localhost:8080/",
     "height": 419
    },
    "id": "AWi6BfZ5LmgE",
    "outputId": "f6a02c11-2eb9-42ff-8b8f-a616fde3bf08"
   },
   "outputs": [
    {
     "data": {
      "text/html": [
       "\n",
       "  <div id=\"df-71521206-b620-4215-8887-60853aa7e5b5\">\n",
       "    <div class=\"colab-df-container\">\n",
       "      <div>\n",
       "<style scoped>\n",
       "    .dataframe tbody tr th:only-of-type {\n",
       "        vertical-align: middle;\n",
       "    }\n",
       "\n",
       "    .dataframe tbody tr th {\n",
       "        vertical-align: top;\n",
       "    }\n",
       "\n",
       "    .dataframe thead th {\n",
       "        text-align: right;\n",
       "    }\n",
       "</style>\n",
       "<table border=\"1\" class=\"dataframe\">\n",
       "  <thead>\n",
       "    <tr style=\"text-align: right;\">\n",
       "      <th></th>\n",
       "      <th>index</th>\n",
       "      <th>cluster</th>\n",
       "    </tr>\n",
       "  </thead>\n",
       "  <tbody>\n",
       "    <tr>\n",
       "      <th>0</th>\n",
       "      <td>157049.0</td>\n",
       "      <td>1</td>\n",
       "    </tr>\n",
       "    <tr>\n",
       "      <th>1</th>\n",
       "      <td>2366208.0</td>\n",
       "      <td>2</td>\n",
       "    </tr>\n",
       "    <tr>\n",
       "      <th>2</th>\n",
       "      <td>1948945.0</td>\n",
       "      <td>0</td>\n",
       "    </tr>\n",
       "    <tr>\n",
       "      <th>3</th>\n",
       "      <td>1684769.0</td>\n",
       "      <td>5</td>\n",
       "    </tr>\n",
       "    <tr>\n",
       "      <th>4</th>\n",
       "      <td>2262152.0</td>\n",
       "      <td>1</td>\n",
       "    </tr>\n",
       "    <tr>\n",
       "      <th>...</th>\n",
       "      <td>...</td>\n",
       "      <td>...</td>\n",
       "    </tr>\n",
       "    <tr>\n",
       "      <th>1249995</th>\n",
       "      <td>1478680.0</td>\n",
       "      <td>2</td>\n",
       "    </tr>\n",
       "    <tr>\n",
       "      <th>1249996</th>\n",
       "      <td>1972646.0</td>\n",
       "      <td>4</td>\n",
       "    </tr>\n",
       "    <tr>\n",
       "      <th>1249997</th>\n",
       "      <td>1710597.0</td>\n",
       "      <td>5</td>\n",
       "    </tr>\n",
       "    <tr>\n",
       "      <th>1249998</th>\n",
       "      <td>1835784.0</td>\n",
       "      <td>4</td>\n",
       "    </tr>\n",
       "    <tr>\n",
       "      <th>1249999</th>\n",
       "      <td>2158348.0</td>\n",
       "      <td>0</td>\n",
       "    </tr>\n",
       "  </tbody>\n",
       "</table>\n",
       "<p>2500000 rows × 2 columns</p>\n",
       "</div>\n",
       "      <button class=\"colab-df-convert\" onclick=\"convertToInteractive('df-71521206-b620-4215-8887-60853aa7e5b5')\"\n",
       "              title=\"Convert this dataframe to an interactive table.\"\n",
       "              style=\"display:none;\">\n",
       "        \n",
       "  <svg xmlns=\"http://www.w3.org/2000/svg\" height=\"24px\"viewBox=\"0 0 24 24\"\n",
       "       width=\"24px\">\n",
       "    <path d=\"M0 0h24v24H0V0z\" fill=\"none\"/>\n",
       "    <path d=\"M18.56 5.44l.94 2.06.94-2.06 2.06-.94-2.06-.94-.94-2.06-.94 2.06-2.06.94zm-11 1L8.5 8.5l.94-2.06 2.06-.94-2.06-.94L8.5 2.5l-.94 2.06-2.06.94zm10 10l.94 2.06.94-2.06 2.06-.94-2.06-.94-.94-2.06-.94 2.06-2.06.94z\"/><path d=\"M17.41 7.96l-1.37-1.37c-.4-.4-.92-.59-1.43-.59-.52 0-1.04.2-1.43.59L10.3 9.45l-7.72 7.72c-.78.78-.78 2.05 0 2.83L4 21.41c.39.39.9.59 1.41.59.51 0 1.02-.2 1.41-.59l7.78-7.78 2.81-2.81c.8-.78.8-2.07 0-2.86zM5.41 20L4 18.59l7.72-7.72 1.47 1.35L5.41 20z\"/>\n",
       "  </svg>\n",
       "      </button>\n",
       "      \n",
       "  <style>\n",
       "    .colab-df-container {\n",
       "      display:flex;\n",
       "      flex-wrap:wrap;\n",
       "      gap: 12px;\n",
       "    }\n",
       "\n",
       "    .colab-df-convert {\n",
       "      background-color: #E8F0FE;\n",
       "      border: none;\n",
       "      border-radius: 50%;\n",
       "      cursor: pointer;\n",
       "      display: none;\n",
       "      fill: #1967D2;\n",
       "      height: 32px;\n",
       "      padding: 0 0 0 0;\n",
       "      width: 32px;\n",
       "    }\n",
       "\n",
       "    .colab-df-convert:hover {\n",
       "      background-color: #E2EBFA;\n",
       "      box-shadow: 0px 1px 2px rgba(60, 64, 67, 0.3), 0px 1px 3px 1px rgba(60, 64, 67, 0.15);\n",
       "      fill: #174EA6;\n",
       "    }\n",
       "\n",
       "    [theme=dark] .colab-df-convert {\n",
       "      background-color: #3B4455;\n",
       "      fill: #D2E3FC;\n",
       "    }\n",
       "\n",
       "    [theme=dark] .colab-df-convert:hover {\n",
       "      background-color: #434B5C;\n",
       "      box-shadow: 0px 1px 3px 1px rgba(0, 0, 0, 0.15);\n",
       "      filter: drop-shadow(0px 1px 2px rgba(0, 0, 0, 0.3));\n",
       "      fill: #FFFFFF;\n",
       "    }\n",
       "  </style>\n",
       "\n",
       "      <script>\n",
       "        const buttonEl =\n",
       "          document.querySelector('#df-71521206-b620-4215-8887-60853aa7e5b5 button.colab-df-convert');\n",
       "        buttonEl.style.display =\n",
       "          google.colab.kernel.accessAllowed ? 'block' : 'none';\n",
       "\n",
       "        async function convertToInteractive(key) {\n",
       "          const element = document.querySelector('#df-71521206-b620-4215-8887-60853aa7e5b5');\n",
       "          const dataTable =\n",
       "            await google.colab.kernel.invokeFunction('convertToInteractive',\n",
       "                                                     [key], {});\n",
       "          if (!dataTable) return;\n",
       "\n",
       "          const docLinkHtml = 'Like what you see? Visit the ' +\n",
       "            '<a target=\"_blank\" href=https://colab.research.google.com/notebooks/data_table.ipynb>data table notebook</a>'\n",
       "            + ' to learn more about interactive tables.';\n",
       "          element.innerHTML = '';\n",
       "          dataTable['output_type'] = 'display_data';\n",
       "          await google.colab.output.renderOutput(dataTable, element);\n",
       "          const docLink = document.createElement('div');\n",
       "          docLink.innerHTML = docLinkHtml;\n",
       "          element.appendChild(docLink);\n",
       "        }\n",
       "      </script>\n",
       "    </div>\n",
       "  </div>\n",
       "  "
      ],
      "text/plain": [
       "             index  cluster\n",
       "0         157049.0        1\n",
       "1        2366208.0        2\n",
       "2        1948945.0        0\n",
       "3        1684769.0        5\n",
       "4        2262152.0        1\n",
       "...            ...      ...\n",
       "1249995  1478680.0        2\n",
       "1249996  1972646.0        4\n",
       "1249997  1710597.0        5\n",
       "1249998  1835784.0        4\n",
       "1249999  2158348.0        0\n",
       "\n",
       "[2500000 rows x 2 columns]"
      ]
     },
     "metadata": {},
     "output_type": "display_data"
    }
   ],
   "source": [
    "df_cluster_map_train = pd.read_csv('clustering+bert/train.csv')[['index', 'cluster']]\n",
    "df_cluster_map_eval = pd.read_csv('clustering+bert/eval.csv')[['index', 'cluster']]\n",
    "df_cluster_map = pd.concat([df_cluster_map_train, df_cluster_map_eval])\n",
    "df_cluster_map"
   ]
  },
  {
   "cell_type": "code",
   "execution_count": null,
   "metadata": {},
   "outputs": [],
   "source": [
    "CLUSTER = 5"
   ]
  },
  {
   "cell_type": "code",
   "execution_count": null,
   "metadata": {
    "colab": {
     "base_uri": "https://localhost:8080/"
    },
    "id": "SVJXrSwO7w6n",
    "outputId": "35e711f8-31ae-4ceb-8d25-a027de256d6d"
   },
   "outputs": [
    {
     "data": {
      "text/plain": [
       "((329028, 4), (329491, 4))"
      ]
     },
     "metadata": {},
     "output_type": "display_data"
    }
   ],
   "source": [
    "df_train = select_train_with_cluster(df_cluster_map, CLUSTER, size=None)\n",
    "df_eval = select_eval_with_cluster(df_cluster_map, CLUSTER, size=None)\n",
    "df_train.shape, df_eval.shape"
   ]
  },
  {
   "cell_type": "code",
   "execution_count": null,
   "metadata": {
    "colab": {
     "base_uri": "https://localhost:8080/",
     "height": 137,
     "referenced_widgets": [
      "18e3dfd5ee244f678624dc503ee7435d",
      "99990e428f1842fc92a587a078f6d273",
      "ca053a8f6a0e40ebb0c621887946e3ab",
      "7d41284ef8dd496ab773897f55f66bdb",
      "c87f08bf8e144054a81bb8796e4acb64",
      "130fe420457244ffbc6b9b215c4cf94c",
      "8260caa0d7704774ade9dc9259aa9d16",
      "6fcf57ef8804438da1a89d81dd69f2f2",
      "5565d04cd93c45eb877d445b19df9e6a",
      "b9ad197866f241e4b2f9f20ed94e5d78",
      "dbf0ed6545a74c9cad0a8725b63c7783",
      "3c40641516ce4a8f9494e9e17206ee02",
      "0fc86e13590b43d6908e93e0e23fc667",
      "f6cc118276924118b94d0ee468d9afdd",
      "451958b952764bc89dfb0313f84dc8b4",
      "2ccebbad1fd9414d9682947ffccd4bce",
      "4503968f3b32417a8f5ded77fc89a29a",
      "78e1c590379d4e319585ad4632a27e42",
      "3cb075849de34fa3b6b50f91f5b9b8cf",
      "a3a463ab09e6443d9383efed796d8597",
      "ed048094a9aa4ad787359f38a8bf8b3d",
      "510e2de0424648ce817160a7f7acdb9d"
     ]
    },
    "id": "aD2HoIb172Dz",
    "outputId": "7216a5fd-53d5-4f17-e1c1-c3c04243f315"
   },
   "outputs": [
    {
     "data": {
      "application/vnd.jupyter.widget-view+json": {
       "model_id": "18e3dfd5ee244f678624dc503ee7435d",
       "version_major": 2,
       "version_minor": 0
      },
      "text/plain": [
       "Casting the dataset:   0%|          | 0/33 [00:00<?, ?ba/s]"
      ]
     },
     "metadata": {},
     "output_type": "display_data"
    },
    {
     "data": {
      "application/vnd.jupyter.widget-view+json": {
       "model_id": "3c40641516ce4a8f9494e9e17206ee02",
       "version_major": 2,
       "version_minor": 0
      },
      "text/plain": [
       "Casting the dataset:   0%|          | 0/33 [00:00<?, ?ba/s]"
      ]
     },
     "metadata": {},
     "output_type": "display_data"
    }
   ],
   "source": [
    "dataset_train = prepare_dataset(df_train, preprocessing=None)\n",
    "dataset_eval = prepare_dataset(df_eval, preprocessing=None)"
   ]
  },
  {
   "cell_type": "code",
   "execution_count": null,
   "metadata": {
    "colab": {
     "base_uri": "https://localhost:8080/",
     "height": 400,
     "referenced_widgets": [
      "74f25afe2fb247a496a91a537d5ebcf5",
      "8c4c6c74b5f54be7839290546765517d",
      "4402807f67f4456fbffa94c00c171924",
      "c93da9e84ccf4f6d8d8a7e00bf0a075e",
      "0f5dfdea049c46c7840cd5775468f8e8",
      "c3b1d870847249399721537f8754d026",
      "929393ea0728487aa9bacf49b175af1f",
      "d114fbbd4cf24cc9bae78ca64f24d182",
      "3cd99e0c65d04ede98154c1c6cf2f69f",
      "6e2e65cbea8e43edae687b3cc7a401de",
      "5fc7e284cbb34da68ca74052e9230c42",
      "ac4ae99afdc749aa98c296c8d8115759",
      "5ca48e95d0294db9b661b1295e7a6637",
      "f71b2cde9e0c48a7b5be8e46943e503e",
      "c640bf3e604e4c2485f6da22b2300e3e",
      "af8ff052fa9345abb596c5d2c8c65ffa",
      "64845082f6c54f5e8eee91c6fae424cd",
      "dea5677a20c34e34a181923bc198482a",
      "fc15e8d0df4c4c049df097686b3f6839",
      "42744a0816054bccb2ce0c4301f42239",
      "01e599be09104c7485767b77e381416b",
      "2113904d94e44e0b91ccc1593819ddb8",
      "d0e2832c021544b880fc366cdce76ea9",
      "1a2d4db86a94409bac2d4d42a4f91989",
      "bed17f0bc15247d197cbed0b46904af0",
      "e2efc34b72ab4380869c315d8c102bc0",
      "cb067bd5f5f0441d88882c4717948fe5",
      "a3666d68ae3c460784313d94fc8ba5c9",
      "ed39e2e3b9564159b654089b86b6d7a2",
      "0ccd7e21ed3049b48c4b9aecdc415618",
      "fc3672ca8c304f95acd45b61bb64b1f6",
      "7061e96be17e4e1b877fe037ca565c39",
      "0f753def9cb44dcfb2120879c0cc4285",
      "af68174759f440ecbb27353796ea408e",
      "f862480f6d6348cc8ca86f08715e6bec",
      "ca26d3ebd5e1495b9de26995e82f2612",
      "bc023cde8a224b2aa0f061e8190135ae",
      "c5085c5f5078455186731cf81ec5f983",
      "b71276924b9447549930d2ca02f9743d",
      "05abf020955a41618fbd1a5c7d169762",
      "cf07eca0398b4f2ab880da7c5a7d83c6",
      "82d5ba79390d44069e4a475065099bba",
      "37a4fc83116b43e498f6f41da410566c",
      "81def2f9074d41f6b32acac7f4192dff",
      "fad8c10a864c41368de121196dd47e18",
      "80cfa61c7c1046c684480c3578655393",
      "14cf451a6da449ec8e6cc07af3dd1c38",
      "971e36b362894a938227107675afcca5",
      "2a940630ba9a4883b53babef9c2678d7",
      "6cb330c2c59f46acab67161a7a70e5d4",
      "45b21352f182442b8ad05516ac21d430",
      "7ac11fd9d65940e5a74eab20ccdad4d9",
      "7206c8e474704801b3b18744ddf81a2b",
      "61e4cc92c4504292b09e467e75f2b88a",
      "39aff160eebd4c2e99bff5f9211a8781"
     ]
    },
    "id": "lAPG_Rb2734l",
    "outputId": "935ed664-f809-4ce8-cf3f-7f0aeb9e7daa"
   },
   "outputs": [
    {
     "data": {
      "application/vnd.jupyter.widget-view+json": {
       "model_id": "74f25afe2fb247a496a91a537d5ebcf5",
       "version_major": 2,
       "version_minor": 0
      },
      "text/plain": [
       "Downloading:   0%|          | 0.00/929 [00:00<?, ?B/s]"
      ]
     },
     "metadata": {},
     "output_type": "display_data"
    },
    {
     "data": {
      "application/vnd.jupyter.widget-view+json": {
       "model_id": "ac4ae99afdc749aa98c296c8d8115759",
       "version_major": 2,
       "version_minor": 0
      },
      "text/plain": [
       "Downloading:   0%|          | 0.00/878k [00:00<?, ?B/s]"
      ]
     },
     "metadata": {},
     "output_type": "display_data"
    },
    {
     "data": {
      "application/vnd.jupyter.widget-view+json": {
       "model_id": "d0e2832c021544b880fc366cdce76ea9",
       "version_major": 2,
       "version_minor": 0
      },
      "text/plain": [
       "Downloading:   0%|          | 0.00/446k [00:00<?, ?B/s]"
      ]
     },
     "metadata": {},
     "output_type": "display_data"
    },
    {
     "data": {
      "application/vnd.jupyter.widget-view+json": {
       "model_id": "af68174759f440ecbb27353796ea408e",
       "version_major": 2,
       "version_minor": 0
      },
      "text/plain": [
       "Downloading:   0%|          | 0.00/239 [00:00<?, ?B/s]"
      ]
     },
     "metadata": {},
     "output_type": "display_data"
    },
    {
     "data": {
      "application/vnd.jupyter.widget-view+json": {
       "model_id": "fad8c10a864c41368de121196dd47e18",
       "version_major": 2,
       "version_minor": 0
      },
      "text/plain": [
       "Downloading:   0%|          | 0.00/478M [00:00<?, ?B/s]"
      ]
     },
     "metadata": {},
     "output_type": "display_data"
    },
    {
     "name": "stderr",
     "output_type": "stream",
     "text": [
      "Some weights of the model checkpoint at cardiffnlp/twitter-roberta-base-sentiment-latest were not used when initializing RobertaForSequenceClassification: ['roberta.pooler.dense.bias', 'roberta.pooler.dense.weight']\n",
      "- This IS expected if you are initializing RobertaForSequenceClassification from the checkpoint of a model trained on another task or with another architecture (e.g. initializing a BertForSequenceClassification model from a BertForPreTraining model).\n",
      "- This IS NOT expected if you are initializing RobertaForSequenceClassification from the checkpoint of a model that you expect to be exactly identical (initializing a BertForSequenceClassification model from a BertForSequenceClassification model).\n",
      "Some weights of RobertaForSequenceClassification were not initialized from the model checkpoint at cardiffnlp/twitter-roberta-base-sentiment-latest and are newly initialized because the shapes did not match:\n",
      "- classifier.out_proj.weight: found shape torch.Size([3, 768]) in the checkpoint and torch.Size([2, 768]) in the model instantiated\n",
      "- classifier.out_proj.bias: found shape torch.Size([3]) in the checkpoint and torch.Size([2]) in the model instantiated\n",
      "You should probably TRAIN this model on a down-stream task to be able to use it for predictions and inference.\n"
     ]
    }
   ],
   "source": [
    "from transformers import AutoTokenizer\n",
    "import shutil\n",
    "\n",
    "try:\n",
    "  shutil.rmtree('cardiffnlp')\n",
    "except OSError:\n",
    "  pass\n",
    "\n",
    "tokenizer = AutoTokenizer.from_pretrained(TOKENIZER)\n",
    "model = get_BERT(MODEL, device)"
   ]
  },
  {
   "cell_type": "code",
   "execution_count": null,
   "metadata": {
    "colab": {
     "base_uri": "https://localhost:8080/",
     "height": 135,
     "referenced_widgets": [
      "8c3426f98cd24389bea6109bf6169be5",
      "aef909473f244d74a14f47ddbd06e4ed",
      "8e1a42b40e5a4e4cb24b3209517e9a3c",
      "38bfc39d70534ee697363a340bc88897",
      "d0a431062aea48a498046d85c66c0d3b",
      "32f18675576542398fa0563d2e0941ea",
      "ecb327e0a08d4e73b59e01e9f1c4683e",
      "7344520133594c748b1467ed1235868b",
      "253a548a2dca4d93bfa6fa2822f361ce",
      "06567a48c341439f9b21fb60da71c23e",
      "5ad58702b0264276b8c9e6484d679ac9",
      "776f42717ec24c13b0cba78a1d925769",
      "2e526d15b09f45d8a6c14cf7f5e9d15e",
      "18d809c1fd934bdf8443a6aca02af3c1",
      "d44a61de67db4dfb84c3b86884345e82",
      "36f1223d44bd4ba0a39232f8e4fbcc6a",
      "19c4de5b5c3b4c93880ee11157d4e727",
      "1e11c51bfeb94f38b78bcac018d545c2",
      "0d038580386c4fb2918bae2283fae68d",
      "c706095250854e1d9c0a13d47767f5e9",
      "d8519f32a17a42dc9eb1ee663dafec02",
      "d96b249d646f4b4490a28962e37b2fad"
     ]
    },
    "id": "clLvIyED778t",
    "outputId": "05145f7b-c4cb-45a1-fc5b-d636ae4f7bcf"
   },
   "outputs": [
    {
     "name": "stderr",
     "output_type": "stream",
     "text": [
      "WARNING:datasets.fingerprint:Parameter 'function'=<function tokenize.<locals>.tokenize_function at 0x7f15f4db29e0> of the transform datasets.arrow_dataset.Dataset._map_single couldn't be hashed properly, a random hash was used instead. Make sure your transforms and parameters are serializable with pickle or dill for the dataset fingerprinting and caching to work. If you reuse this transform, the caching mechanism will consider it to be different from the previous calls and recompute everything. This warning is only showed once. Subsequent hashing failures won't be showed.\n"
     ]
    },
    {
     "data": {
      "application/vnd.jupyter.widget-view+json": {
       "model_id": "8c3426f98cd24389bea6109bf6169be5",
       "version_major": 2,
       "version_minor": 0
      },
      "text/plain": [
       "  0%|          | 0/330 [00:00<?, ?ba/s]"
      ]
     },
     "metadata": {},
     "output_type": "display_data"
    },
    {
     "name": "stderr",
     "output_type": "stream",
     "text": [
      "Asking to truncate to max_length but no maximum length is provided and the model has no predefined maximum length. Default to no truncation.\n"
     ]
    },
    {
     "data": {
      "application/vnd.jupyter.widget-view+json": {
       "model_id": "776f42717ec24c13b0cba78a1d925769",
       "version_major": 2,
       "version_minor": 0
      },
      "text/plain": [
       "  0%|          | 0/330 [00:00<?, ?ba/s]"
      ]
     },
     "metadata": {},
     "output_type": "display_data"
    }
   ],
   "source": [
    "train_tokenized = tokenize(dataset_train, tokenizer)\n",
    "eval_tokenized = tokenize(dataset_eval, tokenizer)"
   ]
  },
  {
   "cell_type": "code",
   "execution_count": null,
   "metadata": {
    "id": "Ixh2CSjx7-E9"
   },
   "outputs": [],
   "source": [
    "def get_embedding(input_ids):\n",
    "  return model.roberta.embeddings.word_embeddings.weight[input_ids].mean(axis=0)"
   ]
  },
  {
   "cell_type": "code",
   "execution_count": null,
   "metadata": {
    "colab": {
     "background_save": true,
     "base_uri": "https://localhost:8080/"
    },
    "id": "fLuxg4nK8FQj",
    "outputId": "7fcfacd9-156d-4a3e-aea1-984d4b6e3ec8"
   },
   "outputs": [
    {
     "name": "stderr",
     "output_type": "stream",
     "text": [
      "100%|██████████| 329028/329028 [00:33<00:00, 9951.26it/s]\n",
      "100%|██████████| 329491/329491 [00:32<00:00, 10045.68it/s]\n"
     ]
    },
    {
     "data": {
      "text/plain": [
       "((329028, 768), (329491, 768))"
      ]
     },
     "metadata": {},
     "output_type": "display_data"
    }
   ],
   "source": [
    "train_embeddings = np.vstack([get_embedding(input_ids).detach().cpu().numpy() for input_ids in tqdm(train_tokenized['input_ids'])])\n",
    "eval_embeddings = np.vstack([get_embedding(input_ids).detach().cpu().numpy() for input_ids in tqdm(eval_tokenized['input_ids'])])\n",
    "train_embeddings.shape, eval_embeddings.shape"
   ]
  },
  {
   "cell_type": "code",
   "execution_count": null,
   "metadata": {
    "colab": {
     "background_save": true
    },
    "id": "jlhp86JN8Nr4"
   },
   "outputs": [],
   "source": [
    "from xgboost import XGBClassifier\n",
    "xgb_model = XGBClassifier(max_depth=6, n_estimators=10000, tree_method='gpu_hist', predictor='gpu_predictor')"
   ]
  },
  {
   "cell_type": "code",
   "execution_count": null,
   "metadata": {
    "colab": {
     "background_save": true
    },
    "id": "cl8Z2SUz9QB4"
   },
   "outputs": [],
   "source": [
    "xgb_model = xgb_model.fit(train_embeddings, df_train['label'])"
   ]
  },
  {
   "cell_type": "code",
   "execution_count": null,
   "metadata": {
    "colab": {
     "background_save": true
    },
    "id": "reNI2k0z-O3_"
   },
   "outputs": [],
   "source": [
    "y_predict = xgb_model.predict_proba(eval_embeddings)"
   ]
  },
  {
   "cell_type": "code",
   "execution_count": null,
   "metadata": {
    "colab": {
     "background_save": true
    },
    "id": "0BL2kks7_zbX",
    "outputId": "932494a3-d353-4c03-ef68-c60d5447ba64"
   },
   "outputs": [
    {
     "data": {
      "text/plain": [
       "(329491, 2)"
      ]
     },
     "metadata": {},
     "output_type": "display_data"
    }
   ],
   "source": [
    "y_predict.shape"
   ]
  },
  {
   "cell_type": "code",
   "execution_count": null,
   "metadata": {
    "colab": {
     "background_save": true
    },
    "id": "h2iRpaZT-dBq",
    "outputId": "d399da3c-5819-4bc6-af81-d8e132f44419"
   },
   "outputs": [
    {
     "name": "stderr",
     "output_type": "stream",
     "text": [
      "INFO:root:---\n",
      "* accuracy: 0.769201586689773\n",
      "* precision: 0.775155607131554\n",
      "* recall: 0.8147183075166043\n",
      "* f1: 0.79444471474832\n",
      "---\n",
      "INFO:root:---\n",
      "* bce: 0.5315112144547388\n",
      "* auc: 0.8493862052350207\n",
      "---\n"
     ]
    },
    {
     "data": {
      "text/plain": [
       "{'accuracy': 0.769201586689773,\n",
       " 'auc': 0.8493862052350207,\n",
       " 'bce': 0.5315112144547388,\n",
       " 'confidence': 0.6717468,\n",
       " 'confidence_std': 0.06616979,\n",
       " 'correct_confidence': 0.68343085,\n",
       " 'correct_confidence_std': 0.060098097,\n",
       " 'f1': 0.79444471474832,\n",
       " 'incorrect_confidence': 0.6328067,\n",
       " 'incorrect_confidence_std': 0.07044319,\n",
       " 'precision': 0.775155607131554,\n",
       " 'recall': 0.8147183075166043}"
      ]
     },
     "metadata": {},
     "output_type": "display_data"
    }
   ],
   "source": [
    "compute_metrics((y_predict, df_eval['label']))"
   ]
  },
  {
   "cell_type": "code",
   "execution_count": null,
   "metadata": {},
   "outputs": [],
   "source": []
  }
 ],
 "metadata": {
  "kernelspec": {
   "display_name": "Python 3.9.13 ('venv': venv)",
   "language": "python",
   "name": "python3"
  },
  "language_info": {
   "codemirror_mode": {
    "name": "ipython",
    "version": 3
   },
   "file_extension": ".py",
   "mimetype": "text/x-python",
   "name": "python",
   "nbconvert_exporter": "python",
   "pygments_lexer": "ipython3",
   "version": "3.9.13"
  },
  "orig_nbformat": 4,
  "vscode": {
   "interpreter": {
    "hash": "60c0dbeaf21558ddf50266f36cb8b3959a1efdbf8c1538f21831715a494e0c8d"
   }
  }
 },
 "nbformat": 4,
 "nbformat_minor": 2
}
