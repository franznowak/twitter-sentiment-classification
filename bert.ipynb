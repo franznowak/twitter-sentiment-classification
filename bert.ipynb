{
 "cells": [
  {
   "cell_type": "code",
   "execution_count": 1,
   "metadata": {},
   "outputs": [
    {
     "name": "stderr",
     "output_type": "stream",
     "text": [
      "/home/jonhue/projects/jonhue/twitter-sentiment-classification/venv/lib/python3.8/site-packages/tqdm/auto.py:22: TqdmWarning: IProgress not found. Please update jupyter and ipywidgets. See https://ipywidgets.readthedocs.io/en/stable/user_install.html\n",
      "  from .autonotebook import tqdm as notebook_tqdm\n"
     ]
    }
   ],
   "source": [
    "import logging\n",
    "import torch"
   ]
  },
  {
   "cell_type": "code",
   "execution_count": 2,
   "metadata": {},
   "outputs": [
    {
     "name": "stderr",
     "output_type": "stream",
     "text": [
      "[nltk_data] Downloading package stopwords to /home/jonhue/nltk_data...\n",
      "[nltk_data]   Package stopwords is already up-to-date!\n",
      "[nltk_data] Downloading package omw-1.4 to /home/jonhue/nltk_data...\n",
      "[nltk_data]   Package omw-1.4 is already up-to-date!\n",
      "[nltk_data] Downloading package wordnet to /home/jonhue/nltk_data...\n",
      "[nltk_data]   Package wordnet is already up-to-date!\n"
     ]
    }
   ],
   "source": [
    "from bert import train\n",
    "from train_test_split import select_train, select_eval, select_train_with_cluster"
   ]
  },
  {
   "cell_type": "code",
   "execution_count": 3,
   "metadata": {},
   "outputs": [],
   "source": [
    "logging.basicConfig(level=logging.INFO)"
   ]
  },
  {
   "cell_type": "code",
   "execution_count": 4,
   "metadata": {},
   "outputs": [
    {
     "data": {
      "text/plain": [
       "'cuda'"
      ]
     },
     "execution_count": 4,
     "metadata": {},
     "output_type": "execute_result"
    }
   ],
   "source": [
    "device = 'cuda' if torch.cuda.is_available() else 'cpu'\n",
    "device"
   ]
  },
  {
   "cell_type": "markdown",
   "metadata": {},
   "source": [
    "---"
   ]
  },
  {
   "cell_type": "code",
   "execution_count": 5,
   "metadata": {},
   "outputs": [],
   "source": [
    "MODEL = 'distilbert-base-uncased' # 'cardiffnlp/twitter-roberta-base-sentiment-latest'\n",
    "TOKENIZER = 'bert-base-uncased'\n",
    "\n",
    "EPOCHS = 1\n",
    "BATCH_SIZE = 32"
   ]
  },
  {
   "cell_type": "code",
   "execution_count": 6,
   "metadata": {},
   "outputs": [],
   "source": [
    "df_train = select_train()\n",
    "df_eval = select_eval()"
   ]
  },
  {
   "cell_type": "code",
   "execution_count": 7,
   "metadata": {},
   "outputs": [
    {
     "name": "stderr",
     "output_type": "stream",
     "text": [
      "Casting the dataset: 100%|██████████| 16/16 [00:00<00:00, 24.30ba/s]\n",
      "Casting the dataset: 100%|██████████| 4/4 [00:00<00:00, 13.20ba/s]\n",
      "WARNING:datasets.fingerprint:Parameter 'function'=<function tokenize.<locals>.tokenize_function at 0x7f802b728f70> of the transform datasets.arrow_dataset.Dataset._map_single couldn't be hashed properly, a random hash was used instead. Make sure your transforms and parameters are serializable with pickle or dill for the dataset fingerprinting and caching to work. If you reuse this transform, the caching mechanism will consider it to be different from the previous calls and recompute everything. This warning is only showed once. Subsequent hashing failures won't be showed.\n",
      "100%|██████████| 160/160 [00:23<00:00,  6.67ba/s]\n",
      "100%|██████████| 40/40 [00:05<00:00,  7.15ba/s]\n",
      "The following columns in the training set don't have a corresponding argument in `DistilBertForSequenceClassification.forward` and have been ignored: token_type_ids, index, text. If token_type_ids, index, text are not expected by `DistilBertForSequenceClassification.forward`,  you can safely ignore this message.\n",
      "/home/jonhue/projects/jonhue/twitter-sentiment-classification/venv/lib/python3.8/site-packages/transformers/optimization.py:306: FutureWarning: This implementation of AdamW is deprecated and will be removed in a future version. Use the PyTorch implementation torch.optim.AdamW instead, or set `no_deprecation_warning=True` to disable this warning\n",
      "  warnings.warn(\n",
      "***** Running training *****\n",
      "  Num examples = 160000\n",
      "  Num Epochs = 1\n",
      "  Instantaneous batch size per device = 32\n",
      "  Total train batch size (w. parallel, distributed & accumulation) = 32\n",
      "  Gradient Accumulation steps = 1\n",
      "  Total optimization steps = 5000\n"
     ]
    },
    {
     "data": {
      "text/html": [
       "\n",
       "    <div>\n",
       "      \n",
       "      <progress value='5000' max='5000' style='width:300px; height:20px; vertical-align: middle;'></progress>\n",
       "      [5000/5000 21:28, Epoch 1/1]\n",
       "    </div>\n",
       "    <table border=\"1\" class=\"dataframe\">\n",
       "  <thead>\n",
       " <tr style=\"text-align: left;\">\n",
       "      <th>Epoch</th>\n",
       "      <th>Training Loss</th>\n",
       "      <th>Validation Loss</th>\n",
       "      <th>Accuracy</th>\n",
       "      <th>Precision</th>\n",
       "      <th>Recall</th>\n",
       "      <th>F1</th>\n",
       "      <th>Bce</th>\n",
       "      <th>Auc</th>\n",
       "      <th>Confidence</th>\n",
       "      <th>Confidence Std</th>\n",
       "      <th>Correct Confidence</th>\n",
       "      <th>Correct Confidence Std</th>\n",
       "      <th>Incorrect Confidence</th>\n",
       "      <th>Incorrect Confidence Std</th>\n",
       "    </tr>\n",
       "  </thead>\n",
       "  <tbody>\n",
       "    <tr>\n",
       "      <td>1</td>\n",
       "      <td>0.300400</td>\n",
       "      <td>0.290397</td>\n",
       "      <td>0.874175</td>\n",
       "      <td>0.865289</td>\n",
       "      <td>0.886680</td>\n",
       "      <td>0.875854</td>\n",
       "      <td>0.290397</td>\n",
       "      <td>0.947646</td>\n",
       "      <td>1.778359</td>\n",
       "      <td>1.217718</td>\n",
       "      <td>1.940663</td>\n",
       "      <td>1.202755</td>\n",
       "      <td>0.650748</td>\n",
       "      <td>0.529082</td>\n",
       "    </tr>\n",
       "  </tbody>\n",
       "</table><p>"
      ],
      "text/plain": [
       "<IPython.core.display.HTML object>"
      ]
     },
     "metadata": {},
     "output_type": "display_data"
    },
    {
     "name": "stderr",
     "output_type": "stream",
     "text": [
      "The following columns in the evaluation set don't have a corresponding argument in `DistilBertForSequenceClassification.forward` and have been ignored: token_type_ids, index, text. If token_type_ids, index, text are not expected by `DistilBertForSequenceClassification.forward`,  you can safely ignore this message.\n",
      "***** Running Evaluation *****\n",
      "  Num examples = 40000\n",
      "  Batch size = 8\n",
      "INFO:root:---\n",
      "* accuracy: 0.874175\n",
      "* precision: 0.8652890145238328\n",
      "* recall: 0.8866803176347201\n",
      "* f1: 0.8758540736538318\n",
      "---\n",
      "INFO:root:---\n",
      "* bce: 0.2903966647479203\n",
      "* auc: 0.9476457382614889\n",
      "---\n",
      "Saving model checkpoint to bert_data/test_trainer/checkpoint-5000\n",
      "Configuration saved in bert_data/test_trainer/checkpoint-5000/config.json\n",
      "Model weights saved in bert_data/test_trainer/checkpoint-5000/pytorch_model.bin\n",
      "tokenizer config file saved in bert_data/test_trainer/checkpoint-5000/tokenizer_config.json\n",
      "Special tokens file saved in bert_data/test_trainer/checkpoint-5000/special_tokens_map.json\n",
      "\n",
      "\n",
      "Training completed. Do not forget to share your model on huggingface.co/models =)\n",
      "\n",
      "\n",
      "Loading best model from bert_data/test_trainer/checkpoint-5000 (score: 0.29039666056632996).\n"
     ]
    }
   ],
   "source": [
    "model = train(MODEL, TOKENIZER, device, df_train, df_eval, batch_size=BATCH_SIZE, epochs=EPOCHS)"
   ]
  },
  {
   "cell_type": "code",
   "execution_count": 8,
   "metadata": {},
   "outputs": [
    {
     "name": "stderr",
     "output_type": "stream",
     "text": [
      "Configuration saved in test-baseline/config.json\n",
      "Model weights saved in test-baseline/pytorch_model.bin\n"
     ]
    }
   ],
   "source": [
    "model.save_pretrained('test-x')"
   ]
  },
  {
   "cell_type": "code",
   "execution_count": null,
   "metadata": {},
   "outputs": [],
   "source": []
  }
 ],
 "metadata": {
  "kernelspec": {
   "display_name": "Python 3.9.13 ('venv': venv)",
   "language": "python",
   "name": "python3"
  },
  "language_info": {
   "codemirror_mode": {
    "name": "ipython",
    "version": 3
   },
   "file_extension": ".py",
   "mimetype": "text/x-python",
   "name": "python",
   "nbconvert_exporter": "python",
   "pygments_lexer": "ipython3",
   "version": "3.9.13"
  },
  "orig_nbformat": 4,
  "vscode": {
   "interpreter": {
    "hash": "60c0dbeaf21558ddf50266f36cb8b3959a1efdbf8c1538f21831715a494e0c8d"
   }
  }
 },
 "nbformat": 4,
 "nbformat_minor": 2
}
