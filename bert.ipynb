{
 "cells": [
  {
   "cell_type": "code",
   "execution_count": 1,
   "metadata": {},
   "outputs": [
    {
     "name": "stderr",
     "output_type": "stream",
     "text": [
      "/Users/jonas/Projects/others/twitter-sentiment-classification/venv/lib/python3.9/site-packages/tqdm/auto.py:22: TqdmWarning: IProgress not found. Please update jupyter and ipywidgets. See https://ipywidgets.readthedocs.io/en/stable/user_install.html\n",
      "  from .autonotebook import tqdm as notebook_tqdm\n"
     ]
    }
   ],
   "source": [
    "from pathlib import Path\n",
    "import logging\n",
    "import torch\n",
    "import numpy as np\n",
    "from transformers import AutoTokenizer, AutoModelForSequenceClassification, TrainingArguments, Trainer\n",
    "from datasets import Dataset, ClassLabel, load_metric"
   ]
  },
  {
   "cell_type": "code",
   "execution_count": 6,
   "metadata": {},
   "outputs": [],
   "source": [
    "from evaluation import evaluate\n",
    "from loading import load_train, load_test\n",
    "from bert import train"
   ]
  },
  {
   "cell_type": "code",
   "execution_count": 3,
   "metadata": {},
   "outputs": [],
   "source": [
    "logging.basicConfig(level=logging.INFO)"
   ]
  },
  {
   "cell_type": "code",
   "execution_count": 4,
   "metadata": {},
   "outputs": [
    {
     "data": {
      "text/plain": [
       "'cpu'"
      ]
     },
     "execution_count": 4,
     "metadata": {},
     "output_type": "execute_result"
    }
   ],
   "source": [
    "device = 'cuda' if torch.cuda.is_available() else 'cpu'\n",
    "device"
   ]
  },
  {
   "cell_type": "markdown",
   "metadata": {},
   "source": [
    "### Configuration"
   ]
  },
  {
   "cell_type": "code",
   "execution_count": 5,
   "metadata": {},
   "outputs": [],
   "source": [
    "FULL=False\n",
    "\n",
    "MODEL = 'distilbert-base-uncased' # 'cardiffnlp/twitter-roberta-base-sentiment-latest'\n",
    "TOKENIZER = 'bert-base-uncased'\n",
    "\n",
    "EPOCHS = 1\n",
    "BATCH_SIZE = 1028"
   ]
  },
  {
   "cell_type": "code",
   "execution_count": null,
   "metadata": {},
   "outputs": [],
   "source": [
    "model, accuracy = train(MODEL, TOKENIZER, device, full=FULL, batch_size=BATCH_SIZE, epochs=EPOCHS)"
   ]
  },
  {
   "cell_type": "markdown",
   "metadata": {},
   "source": [
    "### Load data"
   ]
  },
  {
   "cell_type": "code",
   "execution_count": 6,
   "metadata": {},
   "outputs": [
    {
     "name": "stderr",
     "output_type": "stream",
     "text": [
      "Casting the dataset: 100%|██████████| 16/16 [00:00<00:00, 44.93ba/s]\n",
      "Casting the dataset: 100%|██████████| 4/4 [00:00<00:00, 45.28ba/s]\n"
     ]
    }
   ],
   "source": [
    "df_train, df_val = load_train(full=FULL, eval_frac=0.2, x_col='text', y_col='label', neg_label=0, pos_label=1)\n",
    "dataset_train = Dataset.from_pandas(df_train)\n",
    "dataset_val = Dataset.from_pandas(df_val)\n",
    "\n",
    "new_features = dataset_train.features.copy()\n",
    "new_features['label'] = ClassLabel(names=['0', '1'])\n",
    "\n",
    "dataset_train = dataset_train.cast(new_features)\n",
    "dataset_val = dataset_val.cast(new_features)\n",
    "\n",
    "df_test = load_test(x_col='text')\n",
    "dataset_test = Dataset.from_pandas(df_test)"
   ]
  },
  {
   "cell_type": "markdown",
   "metadata": {},
   "source": [
    "### Tokenize"
   ]
  },
  {
   "cell_type": "code",
   "execution_count": 7,
   "metadata": {},
   "outputs": [],
   "source": [
    "tokenizer = AutoTokenizer.from_pretrained(TOKENIZER)"
   ]
  },
  {
   "cell_type": "code",
   "execution_count": 8,
   "metadata": {},
   "outputs": [],
   "source": [
    "def tokenize_function(ds):\n",
    "  return tokenizer(ds['text'], padding=True, truncation=True)\n",
    "\n",
    "\n",
    "def load_or_tokenize(ds, path, force_retokenize=False):\n",
    "  if not force_retokenize and Path(path).exists():\n",
    "    return Dataset.load_from_disk(path)\n",
    "  else:\n",
    "    ds_tokenized = ds.map(tokenize_function, batched=True)\n",
    "    ds_tokenized.save_to_disk(path)\n",
    "    return ds_tokenized"
   ]
  },
  {
   "cell_type": "code",
   "execution_count": 9,
   "metadata": {},
   "outputs": [],
   "source": [
    "train_tokenized = load_or_tokenize(dataset_train, path='bert/train_tokenized', force_retokenize=FORCE_RETOKENIZE)\n",
    "val_tokenized = load_or_tokenize(dataset_val, path='bert/val_tokenized', force_retokenize=FORCE_RETOKENIZE)\n",
    "test_tokenized = load_or_tokenize(dataset_test, path='bert/test_tokenized', force_retokenize=FORCE_RETOKENIZE)"
   ]
  },
  {
   "cell_type": "markdown",
   "metadata": {},
   "source": [
    "### Load model"
   ]
  },
  {
   "cell_type": "code",
   "execution_count": 10,
   "metadata": {},
   "outputs": [],
   "source": [
    "def get_BERT(model_name=MODEL):\n",
    "  model = AutoModelForSequenceClassification.from_pretrained(model_name, num_labels=2).to(device)\n",
    "  model.save_pretrained(model_name)\n",
    "  return model"
   ]
  },
  {
   "cell_type": "code",
   "execution_count": 11,
   "metadata": {},
   "outputs": [],
   "source": [
    "model = get_BERT()"
   ]
  },
  {
   "cell_type": "markdown",
   "metadata": {},
   "source": [
    "### Tuning"
   ]
  },
  {
   "cell_type": "code",
   "execution_count": 12,
   "metadata": {},
   "outputs": [],
   "source": [
    "training_args = TrainingArguments(\n",
    "  output_dir=\"bert_data/test_trainer\",\n",
    "  num_train_epochs=EPOCHS,\n",
    "  save_strategy=\"epoch\",\n",
    "  evaluation_strategy=\"epoch\",\n",
    "  per_device_train_batch_size=TRAIN_BATCH_SIZE,\n",
    "  load_best_model_at_end=True)"
   ]
  },
  {
   "cell_type": "code",
   "execution_count": 13,
   "metadata": {},
   "outputs": [],
   "source": [
    "metric = load_metric(\"accuracy\")\n",
    "\n",
    "def compute_metrics(eval_pred):\n",
    "  predictions, labels = eval_pred\n",
    "  predictions = np.argmax(predictions, axis=1)\n",
    "  return metric.compute(predictions=predictions, references=labels)"
   ]
  },
  {
   "cell_type": "code",
   "execution_count": 14,
   "metadata": {},
   "outputs": [],
   "source": [
    "trainer = Trainer(\n",
    "  model,\n",
    "  training_args,\n",
    "  train_dataset=train_tokenized,\n",
    "  eval_dataset=val_tokenized,\n",
    "  tokenizer=tokenizer,\n",
    "  compute_metrics=compute_metrics)"
   ]
  },
  {
   "cell_type": "code",
   "execution_count": 15,
   "metadata": {},
   "outputs": [
    {
     "name": "stderr",
     "output_type": "stream",
     "text": [
      "The following columns in the training set don't have a corresponding argument in `DistilBertForSequenceClassification.forward` and have been ignored: index, token_type_ids, __index_level_0__, text. If index, token_type_ids, __index_level_0__, text are not expected by `DistilBertForSequenceClassification.forward`,  you can safely ignore this message.\n",
      "/home/jonhue/projects/jonhue/twitter-sentiment-classification/venv/lib/python3.8/site-packages/transformers/optimization.py:306: FutureWarning: This implementation of AdamW is deprecated and will be removed in a future version. Use the PyTorch implementation torch.optim.AdamW instead, or set `no_deprecation_warning=True` to disable this warning\n",
      "  warnings.warn(\n",
      "***** Running training *****\n",
      "  Num examples = 160000\n",
      "  Num Epochs = 3\n",
      "  Instantaneous batch size per device = 32\n",
      "  Total train batch size (w. parallel, distributed & accumulation) = 32\n",
      "  Gradient Accumulation steps = 1\n",
      "  Total optimization steps = 15000\n"
     ]
    },
    {
     "data": {
      "text/html": [
       "\n",
       "    <div>\n",
       "      \n",
       "      <progress value='8348' max='15000' style='width:300px; height:20px; vertical-align: middle;'></progress>\n",
       "      [ 8348/15000 32:29 < 25:53, 4.28 it/s, Epoch 1.67/3]\n",
       "    </div>\n",
       "    <table border=\"1\" class=\"dataframe\">\n",
       "  <thead>\n",
       " <tr style=\"text-align: left;\">\n",
       "      <th>Epoch</th>\n",
       "      <th>Training Loss</th>\n",
       "      <th>Validation Loss</th>\n",
       "      <th>Accuracy</th>\n",
       "    </tr>\n",
       "  </thead>\n",
       "  <tbody>\n",
       "    <tr>\n",
       "      <td>1</td>\n",
       "      <td>0.309100</td>\n",
       "      <td>0.301340</td>\n",
       "      <td>0.870150</td>\n",
       "    </tr>\n",
       "  </tbody>\n",
       "</table><p>"
      ],
      "text/plain": [
       "<IPython.core.display.HTML object>"
      ]
     },
     "metadata": {},
     "output_type": "display_data"
    },
    {
     "name": "stderr",
     "output_type": "stream",
     "text": [
      "The following columns in the evaluation set don't have a corresponding argument in `DistilBertForSequenceClassification.forward` and have been ignored: index, token_type_ids, __index_level_0__, text. If index, token_type_ids, __index_level_0__, text are not expected by `DistilBertForSequenceClassification.forward`,  you can safely ignore this message.\n",
      "***** Running Evaluation *****\n",
      "  Num examples = 40000\n",
      "  Batch size = 8\n",
      "Saving model checkpoint to bert_data/test_trainer/checkpoint-5000\n",
      "Configuration saved in bert_data/test_trainer/checkpoint-5000/config.json\n",
      "Model weights saved in bert_data/test_trainer/checkpoint-5000/pytorch_model.bin\n",
      "tokenizer config file saved in bert_data/test_trainer/checkpoint-5000/tokenizer_config.json\n",
      "Special tokens file saved in bert_data/test_trainer/checkpoint-5000/special_tokens_map.json\n"
     ]
    }
   ],
   "source": [
    "trainer.train()"
   ]
  },
  {
   "cell_type": "code",
   "execution_count": 18,
   "metadata": {},
   "outputs": [
    {
     "name": "stderr",
     "output_type": "stream",
     "text": [
      "Configuration saved in test1/config.json\n",
      "Model weights saved in test1/pytorch_model.bin\n"
     ]
    }
   ],
   "source": [
    "model.save_pretrained('test0')"
   ]
  },
  {
   "cell_type": "code",
   "execution_count": 19,
   "metadata": {},
   "outputs": [
    {
     "name": "stderr",
     "output_type": "stream",
     "text": [
      "The following columns in the test set don't have a corresponding argument in `DistilBertForSequenceClassification.forward` and have been ignored: index, __index_level_0__, token_type_ids, text. If index, __index_level_0__, token_type_ids, text are not expected by `DistilBertForSequenceClassification.forward`,  you can safely ignore this message.\n",
      "***** Running Prediction *****\n",
      "  Num examples = 160000\n",
      "  Batch size = 8\n"
     ]
    },
    {
     "data": {
      "text/html": [
       "\n",
       "    <div>\n",
       "      \n",
       "      <progress value='30371' max='20000' style='width:300px; height:20px; vertical-align: middle;'></progress>\n",
       "      [20000/20000 29:10]\n",
       "    </div>\n",
       "    "
      ],
      "text/plain": [
       "<IPython.core.display.HTML object>"
      ]
     },
     "metadata": {},
     "output_type": "display_data"
    }
   ],
   "source": [
    "train_pred = trainer.predict(train_tokenized)\n",
    "df_train['Prediction'] = np.argmax(train_pred.predictions, axis=1)\n",
    "df_train.to_csv(\"bert_data/bert_pred_train.csv\")\n",
    "df_train['log_neg'] = train_pred.predictions[:, 0]\n",
    "df_train['log_pos'] = train_pred.predictions[:, 1]\n",
    "# store logits, e.g. for ensemble learning, ..\n",
    "df_train.to_csv(\"bert_data/bert_pred_train_logits.csv\")\n",
    "acc_train, prec_train, recall_train, f1_train, bce_train, auc_train = evaluate(df_train['Prediction'], df_train[\"label\"])"
   ]
  },
  {
   "cell_type": "code",
   "execution_count": 20,
   "metadata": {},
   "outputs": [
    {
     "name": "stderr",
     "output_type": "stream",
     "text": [
      "The following columns in the test set don't have a corresponding argument in `DistilBertForSequenceClassification.forward` and have been ignored: text, token_type_ids, index, __index_level_0__. If text, token_type_ids, index, __index_level_0__ are not expected by `DistilBertForSequenceClassification.forward`,  you can safely ignore this message.\n",
      "***** Running Prediction *****\n",
      "  Num examples = 500000\n",
      "  Batch size = 8\n"
     ]
    }
   ],
   "source": [
    "val_pred = trainer.predict(val_tokenized)\n",
    "df_val['Prediction'] = np.argmax(val_pred.predictions, axis=1)\n",
    "df_val.to_csv(\"bert_data/bert_pred_val.csv\")\n",
    "df_val['log_neg'] = val_pred.predictions[:, 0]\n",
    "df_val['log_pos'] = val_pred.predictions[:, 1]\n",
    "df_val.to_csv(\"bert_data/bert_pred_val_logits.csv\")\n",
    "acc_val, prec_val, recall_val, f1_val, bce_val, auc_val = evaluate(df_val['Prediction'], df_val[\"label\"])"
   ]
  },
  {
   "cell_type": "code",
   "execution_count": 19,
   "metadata": {},
   "outputs": [
    {
     "name": "stderr",
     "output_type": "stream",
     "text": [
      "The following columns in the test set don't have a corresponding argument in `DistilBertForSequenceClassification.forward` and have been ignored: text, token_type_ids, __index_level_0__. If text, token_type_ids, __index_level_0__ are not expected by `DistilBertForSequenceClassification.forward`,  you can safely ignore this message.\n",
      "***** Running Prediction *****\n",
      "  Num examples = 10000\n",
      "  Batch size = 8\n"
     ]
    },
    {
     "data": {
      "text/html": [
       "\n",
       "    <div>\n",
       "      \n",
       "      <progress value='10800' max='1250' style='width:300px; height:20px; vertical-align: middle;'></progress>\n",
       "      [1250/1250 08:00]\n",
       "    </div>\n",
       "    "
      ],
      "text/plain": [
       "<IPython.core.display.HTML object>"
      ]
     },
     "metadata": {},
     "output_type": "display_data"
    }
   ],
   "source": [
    "test_pred = trainer.predict(test_tokenized)\n",
    "df_test['Prediction'] = np.argmax(test_pred.predictions, axis=1)\n",
    "df_test.to_csv(\"bert_data/bert_pred_test.csv\")\n",
    "df_test['log_neg'] = test_pred.predictions[:, 0]\n",
    "df_test['log_pos'] = test_pred.predictions[:, 1]\n",
    "df_test.to_csv(\"bert_data/bert_pred_test_logits.csv\")"
   ]
  },
  {
   "cell_type": "code",
   "execution_count": null,
   "metadata": {},
   "outputs": [
    {
     "data": {
      "text/plain": [
       "(0.87755, 0.90886875)"
      ]
     },
     "execution_count": 29,
     "metadata": {},
     "output_type": "execute_result"
    }
   ],
   "source": [
    "acc_val, acc_train"
   ]
  },
  {
   "cell_type": "code",
   "execution_count": null,
   "metadata": {},
   "outputs": [],
   "source": []
  }
 ],
 "metadata": {
  "kernelspec": {
   "display_name": "Python 3.9.13 ('venv': venv)",
   "language": "python",
   "name": "python3"
  },
  "language_info": {
   "codemirror_mode": {
    "name": "ipython",
    "version": 3
   },
   "file_extension": ".py",
   "mimetype": "text/x-python",
   "name": "python",
   "nbconvert_exporter": "python",
   "pygments_lexer": "ipython3",
   "version": "3.9.13"
  },
  "orig_nbformat": 4,
  "vscode": {
   "interpreter": {
    "hash": "60c0dbeaf21558ddf50266f36cb8b3959a1efdbf8c1538f21831715a494e0c8d"
   }
  }
 },
 "nbformat": 4,
 "nbformat_minor": 2
}
