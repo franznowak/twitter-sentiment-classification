{
 "cells": [
  {
   "cell_type": "code",
   "execution_count": 1,
   "id": "5dc2ade5",
   "metadata": {},
   "outputs": [],
   "source": [
    "import pandas as pd\n",
    "import numpy as np\n",
    "from loading import *"
   ]
  },
  {
   "cell_type": "code",
   "execution_count": 4,
   "id": "86fb21d4",
   "metadata": {},
   "outputs": [],
   "source": [
    "emo_test_idx = pd.read_csv(\"data/trained-emo-clusters-10-epochs/emo_test_idx.csv\")\n",
    "emo_train_idx = pd.read_csv(\"data/trained-emo-clusters-10-epochs/emo_train_full_idx.csv\")"
   ]
  },
  {
   "cell_type": "code",
   "execution_count": 5,
   "id": "38fe112c",
   "metadata": {},
   "outputs": [],
   "source": [
    "test = load_test()\n",
    "train = load_train(full=True)"
   ]
  },
  {
   "cell_type": "code",
   "execution_count": 6,
   "id": "2fb08359",
   "metadata": {},
   "outputs": [],
   "source": [
    "test[\"id\"] = test.index.astype(np.int64)\n",
    "test.id = test.id.apply(lambda x:x-1)\n",
    "train[\"id\"] = train.index.astype(np.int64)\n",
    "emo_test_idx[\"id\"] = emo_test_idx.index.astype(np.int64)\n",
    "emo_train_idx[\"id\"] = emo_train_idx.index.astype(np.int64)"
   ]
  },
  {
   "cell_type": "code",
   "execution_count": 7,
   "id": "d9accfe1",
   "metadata": {},
   "outputs": [],
   "source": [
    "test_emo = pd.merge(test,emo_test_idx,on=\"id\").drop([\"Unnamed: 0\",\"id\"], axis='columns')\n",
    "train_emo = pd.merge(train,emo_train_idx,on=\"id\").drop([\"Unnamed: 0\",\"id\"], axis='columns')"
   ]
  },
  {
   "cell_type": "code",
   "execution_count": 10,
   "id": "9b480b92",
   "metadata": {},
   "outputs": [],
   "source": [
    "emotions = [\"noemo\", \"joy\", \"fear\", \"sadness\", \"love\", \"surprise\", \"anger\"]\n",
    "\n",
    "def add_cluster_labels(df):\n",
    "    df['emotion'] = df[\"0\"].apply(lambda x: emotions[x])"
   ]
  },
  {
   "cell_type": "code",
   "execution_count": 11,
   "id": "ae0fde1a",
   "metadata": {},
   "outputs": [],
   "source": [
    "add_cluster_labels(test_emo)\n",
    "add_cluster_labels(train_emo)"
   ]
  },
  {
   "cell_type": "code",
   "execution_count": 12,
   "id": "45f369e8",
   "metadata": {},
   "outputs": [],
   "source": [
    "test_emo[\"index\"] = test_emo.index.astype(np.int64)\n",
    "train_emo[\"index\"] = train_emo.index.astype(np.int64)\n",
    "test_emo = test_emo.rename({\"0\":\"cluster\"}, axis=\"columns\")\n",
    "train_emo = train_emo.rename({\"0\":\"cluster\"}, axis=\"columns\")"
   ]
  },
  {
   "cell_type": "code",
   "execution_count": 13,
   "id": "eb20da9e",
   "metadata": {},
   "outputs": [],
   "source": [
    "test_emo.to_csv(\"data/trained-emo-clusters-10-epochs/emo_test.csv\", index=False)\n",
    "train_emo.to_csv(\"data/trained-emo-clusters-10-epochs/emo_train_full.csv\", index=False)"
   ]
  }
 ],
 "metadata": {
  "kernelspec": {
   "display_name": "Python 3.9.7 64-bit",
   "language": "python",
   "name": "python3"
  },
  "language_info": {
   "codemirror_mode": {
    "name": "ipython",
    "version": 3
   },
   "file_extension": ".py",
   "mimetype": "text/x-python",
   "name": "python",
   "nbconvert_exporter": "python",
   "pygments_lexer": "ipython3",
   "version": "3.9.7"
  },
  "vscode": {
   "interpreter": {
    "hash": "aee8b7b246df8f9039afb4144a1f6fd8d2ca17a180786b69acc140d282b71a49"
   }
  }
 },
 "nbformat": 4,
 "nbformat_minor": 5
}
