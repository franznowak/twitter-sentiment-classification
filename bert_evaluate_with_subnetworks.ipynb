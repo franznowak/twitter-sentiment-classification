{
 "cells": [
  {
   "cell_type": "code",
   "execution_count": 1,
   "metadata": {},
   "outputs": [
    {
     "name": "stderr",
     "output_type": "stream",
     "text": [
      "/home/jonhue/projects/jonhue/twitter-sentiment-classification/venv/lib/python3.8/site-packages/tqdm/auto.py:22: TqdmWarning: IProgress not found. Please update jupyter and ipywidgets. See https://ipywidgets.readthedocs.io/en/stable/user_install.html\n",
      "  from .autonotebook import tqdm as notebook_tqdm\n"
     ]
    }
   ],
   "source": [
    "import logging\n",
    "import torch\n",
    "import numpy as np\n",
    "import pandas as pd\n",
    "from transformers import AutoTokenizer, Trainer\n",
    "from datasets import Dataset, ClassLabel"
   ]
  },
  {
   "cell_type": "code",
   "execution_count": 2,
   "metadata": {},
   "outputs": [
    {
     "name": "stderr",
     "output_type": "stream",
     "text": [
      "[nltk_data] Downloading package stopwords to /home/jonhue/nltk_data...\n",
      "[nltk_data]   Package stopwords is already up-to-date!\n",
      "[nltk_data] Downloading package omw-1.4 to /home/jonhue/nltk_data...\n",
      "[nltk_data]   Package omw-1.4 is already up-to-date!\n",
      "[nltk_data] Downloading package wordnet to /home/jonhue/nltk_data...\n",
      "[nltk_data]   Package wordnet is already up-to-date!\n"
     ]
    }
   ],
   "source": [
    "from train_test_split import select_eval_with_cluster, select_eval\n",
    "from preprocessing import preprocess\n",
    "from evaluation import evaluate\n",
    "from bert import tokenize, get_BERT, prepare_dataset, compute_metrics"
   ]
  },
  {
   "cell_type": "code",
   "execution_count": 3,
   "metadata": {},
   "outputs": [],
   "source": [
    "logging.basicConfig(level=logging.INFO)"
   ]
  },
  {
   "cell_type": "code",
   "execution_count": 4,
   "metadata": {},
   "outputs": [
    {
     "data": {
      "text/plain": [
       "'cuda'"
      ]
     },
     "execution_count": 4,
     "metadata": {},
     "output_type": "execute_result"
    }
   ],
   "source": [
    "device = 'cuda' if torch.cuda.is_available() else 'cpu'\n",
    "device"
   ]
  },
  {
   "cell_type": "code",
   "execution_count": 5,
   "metadata": {},
   "outputs": [],
   "source": [
    "MODEL = {\n",
    "  0: 'models/roberta-baseline-full', # 'models/cluster-0',\n",
    "  1: 'models/roberta-baseline-full',\n",
    "  2: 'models/roberta-baseline-full',\n",
    "  3: 'models/roberta-baseline-full', # 'models/cluster-3',\n",
    "  4: 'models/roberta-baseline-full', # 'models/cluster-4',\n",
    "  5: 'models/roberta-baseline-full', # 'models/cluster-5',\n",
    "  6: 'models/roberta-baseline-full',\n",
    "}\n",
    "TOKENIZER = 'cardiffnlp/twitter-roberta-base-sentiment-latest'\n",
    "PREPROCESSING = None"
   ]
  },
  {
   "cell_type": "code",
   "execution_count": 6,
   "metadata": {},
   "outputs": [
    {
     "data": {
      "text/html": [
       "<div>\n",
       "<style scoped>\n",
       "    .dataframe tbody tr th:only-of-type {\n",
       "        vertical-align: middle;\n",
       "    }\n",
       "\n",
       "    .dataframe tbody tr th {\n",
       "        vertical-align: top;\n",
       "    }\n",
       "\n",
       "    .dataframe thead th {\n",
       "        text-align: right;\n",
       "    }\n",
       "</style>\n",
       "<table border=\"1\" class=\"dataframe\">\n",
       "  <thead>\n",
       "    <tr style=\"text-align: right;\">\n",
       "      <th></th>\n",
       "      <th>index</th>\n",
       "      <th>cluster</th>\n",
       "    </tr>\n",
       "  </thead>\n",
       "  <tbody>\n",
       "    <tr>\n",
       "      <th>0</th>\n",
       "      <td>922648.0</td>\n",
       "      <td>0</td>\n",
       "    </tr>\n",
       "    <tr>\n",
       "      <th>1</th>\n",
       "      <td>944379.0</td>\n",
       "      <td>4</td>\n",
       "    </tr>\n",
       "    <tr>\n",
       "      <th>2</th>\n",
       "      <td>2182552.0</td>\n",
       "      <td>4</td>\n",
       "    </tr>\n",
       "    <tr>\n",
       "      <th>3</th>\n",
       "      <td>786886.0</td>\n",
       "      <td>4</td>\n",
       "    </tr>\n",
       "    <tr>\n",
       "      <th>4</th>\n",
       "      <td>1130778.0</td>\n",
       "      <td>3</td>\n",
       "    </tr>\n",
       "    <tr>\n",
       "      <th>...</th>\n",
       "      <td>...</td>\n",
       "      <td>...</td>\n",
       "    </tr>\n",
       "    <tr>\n",
       "      <th>1249995</th>\n",
       "      <td>1478680.0</td>\n",
       "      <td>2</td>\n",
       "    </tr>\n",
       "    <tr>\n",
       "      <th>1249996</th>\n",
       "      <td>1972646.0</td>\n",
       "      <td>4</td>\n",
       "    </tr>\n",
       "    <tr>\n",
       "      <th>1249997</th>\n",
       "      <td>1710597.0</td>\n",
       "      <td>5</td>\n",
       "    </tr>\n",
       "    <tr>\n",
       "      <th>1249998</th>\n",
       "      <td>1835784.0</td>\n",
       "      <td>4</td>\n",
       "    </tr>\n",
       "    <tr>\n",
       "      <th>1249999</th>\n",
       "      <td>2158348.0</td>\n",
       "      <td>0</td>\n",
       "    </tr>\n",
       "  </tbody>\n",
       "</table>\n",
       "<p>1250000 rows × 2 columns</p>\n",
       "</div>"
      ],
      "text/plain": [
       "             index  cluster\n",
       "0         922648.0        0\n",
       "1         944379.0        4\n",
       "2        2182552.0        4\n",
       "3         786886.0        4\n",
       "4        1130778.0        3\n",
       "...            ...      ...\n",
       "1249995  1478680.0        2\n",
       "1249996  1972646.0        4\n",
       "1249997  1710597.0        5\n",
       "1249998  1835784.0        4\n",
       "1249999  2158348.0        0\n",
       "\n",
       "[1250000 rows x 2 columns]"
      ]
     },
     "execution_count": 6,
     "metadata": {},
     "output_type": "execute_result"
    }
   ],
   "source": [
    "df_cluster_map = pd.read_csv('clustering+bert/eval.csv')[['index', 'cluster']]\n",
    "df_cluster_map"
   ]
  },
  {
   "cell_type": "code",
   "execution_count": null,
   "metadata": {
    "colab": {
     "base_uri": "https://localhost:8080/"
    },
    "id": "XMav6QXyfho8",
    "outputId": "16605d39-480a-4fba-965f-9a9a3ff96fb5"
   },
   "outputs": [
    {
     "data": {
      "text/plain": [
       "array([0, 1, 2, 3, 4, 5, 6])"
      ]
     },
     "metadata": {},
     "output_type": "display_data"
    }
   ],
   "source": [
    "CLUSTERS = np.sort(df_cluster_map['cluster'].unique())\n",
    "CLUSTERS"
   ]
  },
  {
   "cell_type": "code",
   "execution_count": null,
   "metadata": {
    "id": "UjBncdeYLcHX"
   },
   "outputs": [],
   "source": [
    "df_eval = pd.merge(select_eval(), df_cluster_map, on='index')"
   ]
  },
  {
   "cell_type": "code",
   "execution_count": null,
   "metadata": {
    "id": "HAxGDFITQDtF"
   },
   "outputs": [],
   "source": [
    "df_eval = df_eval.sort_values(by='cluster')"
   ]
  },
  {
   "cell_type": "code",
   "execution_count": null,
   "metadata": {
    "id": "fVXeeATCfho9"
   },
   "outputs": [],
   "source": [
    "def evaluate_cluster(cluster: int) -> float:\n",
    "  dataset_eval = prepare_dataset(df_eval[df_eval['cluster'] == cluster], preprocessing=PREPROCESSING)\n",
    "\n",
    "  tokenizer = AutoTokenizer.from_pretrained(TOKENIZER)\n",
    "  eval_tokenized = tokenize(dataset_eval, tokenizer)\n",
    "\n",
    "  model = get_BERT(MODEL[cluster], device)\n",
    "  trainer = Trainer(model, tokenizer=tokenizer)\n",
    "  eval_pred = trainer.predict(eval_tokenized)\n",
    "  return eval_pred"
   ]
  },
  {
   "cell_type": "code",
   "execution_count": null,
   "metadata": {
    "colab": {
     "base_uri": "https://localhost:8080/",
     "height": 709,
     "referenced_widgets": [
      "cac6799cf6074f108820a1986706d10f",
      "17ce86e98f4745f484cea69e6d7bdb4b",
      "ea5499c319054ee38c3c402343228639",
      "a28120e0af4a412db91cb422136d761b",
      "9269f428b5dd4fb0aae8c242fcc6f53e",
      "dddf2f6ec6d14ddcbbea32f818749f18",
      "e868973e5e4c4909adaa30bf54d21960",
      "82f7f86935a340a2a0314d270d8dbf59",
      "52851e46b8d4490a892c9dc20b003939",
      "2969c30f3764472780a58bbff434b7d1",
      "f0cb8ea49f3449719b82240d6cbf35cf",
      "46da51ab0f374f648210901511d59081",
      "b7af0c46d27b49e6a3d747f1f2075d1a",
      "fda93fa543a549c49288a0d4c8c49f82",
      "a05d48b114444c0cbc355be33fb4fb12",
      "7f89785ae60e428a82f10d3edb8adc44",
      "bd2e33257a1d49ab82b5c9af57f78915",
      "edbce2bfc5174ee09e6e1b80c0c53565",
      "430144f04cb847ac9065d55b17f5b80d",
      "64fc10dbd11d488eb7f4276b91ba40f9",
      "8c8a8123332c4077a467f456f7639e2a",
      "4cead227a049475389de02443d92bea3",
      "459a9476a7d946d6a24049aed3daf3c3",
      "ebe19cfd1df943c5939939aff824ed7e",
      "66ed00d0285b4333b2712b4fe83e2343",
      "a7431a41b7e74f29b445a625065c1efc",
      "7a751ab7f941465686f4c0d7299bb8f8",
      "fb49351a7c0f4c04aa8efb9eebdb9bf9",
      "4fe29d34805c4374bbec6b7ef91ffcc7",
      "1ab4c58f96bd41e1a5a572b053262a29",
      "c70b2261025849b68654e71136e121f6",
      "0d6b46bc4ac744a48cc59635b7b35499",
      "de25b6ce2151446ebdd3626ccac69892",
      "c27fc9fe1e3c41b0a6c47517f23d94ed",
      "cb460eeb72f64b538ff278569f7f16f2",
      "ed4d51a805df45258b84d4708cbd0dfe",
      "99110643dcb545a1bd6edd0855738b01",
      "c24092c849aa4e7b850dbfe3175f28f4",
      "1a1880b250004cad973008a7a20fe26c",
      "405a2809ad74492b8323e53ce7f6aaa3",
      "3c4191162aa54dad9e43f3d4a8bc0928",
      "428abb7eb9e647f18fb1be8443837481",
      "3d2fd31378534652919eaf228ce82ec9",
      "8480a04b0e1644d9bd556beb1c64da85",
      "67acce7ee177418991ce9eca30587ff4",
      "a9fc05262685425dac60d3d3fc5bde9f",
      "cab89117ea7d4ea087552cd8cf2544ba",
      "d997b4c2d122402487cce067fd7ad3b6",
      "2b4be5295ffe4d80a9a9126b7e431f9c",
      "4ed16f41766a4a95a32720c9df9c54b5",
      "f4993a0197104076a89cb5b99dce2922",
      "e7fb8babf781464e97eb0fb6e04fb0e9",
      "a30d9ce51d09477b8dc81d39512bc38a",
      "7f1e14b2412e4d08b7a689dd69b84709",
      "aaeb854f0f8548e09759b13dace6fae8",
      "44a78e77598d4a1a943c69791f8ea1ee",
      "c9a4b1a4d9f04170ab0eaa7ac525e7a9",
      "298bdf8c0ffa427c8d9f2679a04263c8",
      "d3502cb41b9540bba6b8f91a903704e5",
      "1310f436c4ca45fb92f2d42ded30a53a",
      "c04ab3d4f70e495a867ccabccc87463b",
      "d5b4babca4db4f269e73aacef4e9e364",
      "ae5098ddc10f4af1a6b79ba19a69f08f",
      "3ddea16d83214c548fc47125d9b3efbe",
      "ba21f8fae19b4974a626fcc25387750a",
      "8069063a59f94d66933dcc0ccb0eecf2"
     ]
    },
    "id": "b3xk_1zGU6xo",
    "outputId": "32025753-2cf4-46a2-a815-a169106e9372"
   },
   "outputs": [],
   "source": [
    "preds = []\n",
    "for cluster in range(7):\n",
    "  preds.append(evaluate_cluster(cluster))\n",
    "\n",
    "compute_metrics((np.concatenate([p[0] for p in preds]), df_eval['label']))"
   ]
  },
  {
   "cell_type": "code",
   "execution_count": null,
   "metadata": {},
   "outputs": [],
   "source": []
  }
 ],
 "metadata": {
  "kernelspec": {
   "display_name": "Python 3.9.13 ('venv': venv)",
   "language": "python",
   "name": "python3"
  },
  "language_info": {
   "codemirror_mode": {
    "name": "ipython",
    "version": 3
   },
   "file_extension": ".py",
   "mimetype": "text/x-python",
   "name": "python",
   "nbconvert_exporter": "python",
   "pygments_lexer": "ipython3",
   "version": "3.9.13"
  },
  "orig_nbformat": 4,
  "vscode": {
   "interpreter": {
    "hash": "60c0dbeaf21558ddf50266f36cb8b3959a1efdbf8c1538f21831715a494e0c8d"
   }
  }
 },
 "nbformat": 4,
 "nbformat_minor": 2
}
