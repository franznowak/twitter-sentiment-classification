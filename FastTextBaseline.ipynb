{
  "nbformat": 4,
  "nbformat_minor": 0,
  "metadata": {
    "colab": {
      "name": "FastTextBaseline.ipynb",
      "provenance": []
    },
    "kernelspec": {
      "name": "python3",
      "display_name": "Python 3"
    },
    "language_info": {
      "name": "python"
    }
  },
  "cells": [
    {
      "cell_type": "markdown",
      "source": [
        "Loading.py"
      ],
      "metadata": {
        "id": "sarnpA0mrr_C"
      }
    },
    {
      "cell_type": "code",
      "source": [
        "import pandas as pd\n",
        "import os\n",
        "from typing import List, Tuple\n",
        "\n",
        "DIR = \"data\\twitter-datasets\"\n",
        "\n",
        "\n",
        "def _read_data(path: str) -> List[str]:\n",
        "  with open(path, 'r') as f:\n",
        "    return [x for x in f]\n",
        "\n",
        "\n",
        "def _read_data_with_ids(path: str) -> Tuple[List[str], List[str]]:\n",
        "  index = []\n",
        "  rows = []\n",
        "  with open(path, 'r') as f:\n",
        "    for line in f:\n",
        "      id, x = line.split(',', maxsplit=1)\n",
        "      index.append(id)\n",
        "      rows.append(x)\n",
        "  return index, rows\n",
        "\n",
        "\n",
        "def load_train(full=False) -> pd.DataFrame:\n",
        "  print(\"LOADING DATA FROM \", DIR)\n",
        "  pos_path = '/home/train_pos.txt'\n",
        "  neg_path = '/home/train_neg.txt'\n",
        "\n",
        "  #pos_path = os.path.join(DIR, 'train_pos' + ('_full' if full else '') + '.txt')\n",
        "  #neg_path = os.path.join(DIR, 'train_neg' + ('_full' if full else '') + '.txt')\n",
        "\n",
        "  pos_rows = _read_data(pos_path)\n",
        "  pos = pd.DataFrame({'x': pos_rows})\n",
        "  pos['y'] = 1\n",
        "\n",
        "  neg_rows = _read_data(neg_path)\n",
        "  neg = pd.DataFrame({'x': neg_rows})\n",
        "  neg['y'] = 0\n",
        "\n",
        "  return pd.concat([pos, neg], ignore_index=True).reset_index()\n",
        "\n",
        "\n",
        "def load_test() -> pd.DataFrame:\n",
        "  path = os.path.join(DIR, 'test_data.txt')\n",
        "  index, rows = _read_data_with_ids(path)\n",
        "  df = pd.DataFrame({'x': rows}, index)\n",
        "\n",
        "  return df\n"
      ],
      "metadata": {
        "id": "69HqdCe31uGu"
      },
      "execution_count": 1,
      "outputs": []
    },
    {
      "cell_type": "markdown",
      "source": [
        "Preprocessing.py"
      ],
      "metadata": {
        "id": "vE0UNFUGrwCD"
      }
    },
    {
      "cell_type": "code",
      "source": [
        "import pandas as pd\n",
        "\n",
        "\n",
        "def remove_tags(df: pd.DataFrame):\n",
        "  df['x'] = df['x'].apply(lambda x: x.replace('<user>', '').replace('<url>', '').strip())"
      ],
      "metadata": {
        "id": "g76AL3sM1wy9"
      },
      "execution_count": 2,
      "outputs": []
    },
    {
      "cell_type": "markdown",
      "source": [
        "Evaluate.py"
      ],
      "metadata": {
        "id": "_prfqRFCr2GH"
      }
    },
    {
      "cell_type": "code",
      "source": [
        "from cmath import log\n",
        "import numpy as np\n",
        "from sklearn.metrics import accuracy_score, precision_score, recall_score, f1_score, log_loss, roc_auc_score\n",
        "from typing import Tuple\n",
        "import logging\n",
        "\n",
        "\n",
        "def _log_metrics(metrics):\n",
        "  logging.info(\n",
        "    '---\\n' +\n",
        "    '\\n'.join([f'* {x}: {y}' for x,y in metrics.items()]) +\n",
        "    '\\n---'\n",
        "  )\n",
        "\n",
        "\n",
        "def evaluate_prob(y: np.array, y_pred: np.array, verbose=True) -> Tuple[float, float]:\n",
        "  \"\"\"\n",
        "  Returns BCE loss, AUC in this order.\n",
        "  \"\"\"\n",
        "\n",
        "  bce = log_loss(y, y_pred)\n",
        "  auc = roc_auc_score(y, y_pred)\n",
        "  if verbose:\n",
        "    _log_metrics({'bce': bce, 'auc': auc})\n",
        "\n",
        "  return bce, auc\n",
        "\n",
        "\n",
        "def evaluate(y: np.array, y_pred: np.array) -> Tuple[float, float, float, float, float, float]:\n",
        "  \"\"\"\n",
        "  Returns accuracy, precision, recall, F1, BCE loss, AUC in this order.\n",
        "\n",
        "  * accuracy: proportion of correctly classified answers\n",
        "  * precision: proportion of correctly classified positives\n",
        "  * recall: proportion of actual positives correctly classified\n",
        "  * F1: combination of precision & recall\n",
        "  \"\"\"\n",
        "\n",
        "  accuracy = accuracy_score(y, y_pred)\n",
        "  precision = precision_score(y, y_pred)\n",
        "  recall = recall_score(y, y_pred)\n",
        "  f1 = f1_score(y, y_pred)\n",
        "  bce, auc = evaluate_prob(y, y_pred, verbose=False)\n",
        "  _log_metrics({'accuracy': accuracy, 'precision': precision, 'recall': recall, 'f1': f1, 'bce': bce, 'auc': auc})\n",
        "\n",
        "  return accuracy, precision, recall, f1, bce, auc\n",
        "\n"
      ],
      "metadata": {
        "id": "Smk0wH9O18vA"
      },
      "execution_count": 3,
      "outputs": []
    },
    {
      "cell_type": "markdown",
      "source": [
        "Loading and Preprocessing the dataset"
      ],
      "metadata": {
        "id": "AqBwItsNr5Mt"
      }
    },
    {
      "cell_type": "code",
      "execution_count": 4,
      "metadata": {
        "id": "3kqHNq1S1Ri5",
        "colab": {
          "base_uri": "https://localhost:8080/"
        },
        "outputId": "29bd061a-1612-4215-91c2-289bf1784959"
      },
      "outputs": [
        {
          "output_type": "stream",
          "name": "stdout",
          "text": [
            "done\n"
          ]
        }
      ],
      "source": [
        "import logging\n",
        "import torch\n",
        "print(\"done\")"
      ]
    },
    {
      "cell_type": "code",
      "source": [
        "logging.basicConfig(level=logging.INFO)"
      ],
      "metadata": {
        "id": "JPH42eDQ2M17"
      },
      "execution_count": 5,
      "outputs": []
    },
    {
      "cell_type": "code",
      "source": [
        "df = load_train(full=False)\n",
        "print(\"done loading\")\n",
        "df"
      ],
      "metadata": {
        "id": "aPdUioJI2N2y",
        "colab": {
          "base_uri": "https://localhost:8080/",
          "height": 458
        },
        "outputId": "1d1d0345-009f-468d-cc39-a660d179c557"
      },
      "execution_count": 12,
      "outputs": [
        {
          "output_type": "stream",
          "name": "stdout",
          "text": [
            "LOADING DATA FROM  data\twitter-datasets\n",
            "done loading\n"
          ]
        },
        {
          "output_type": "execute_result",
          "data": {
            "text/plain": [
              "         index                                                  x  y\n",
              "0            0  <user> i dunno justin read my mention or not ....  1\n",
              "1            1  because your logic is so dumb , i won't even c...  1\n",
              "2            2  \" <user> just put casper in a box ! \" looved t...  1\n",
              "3            3  <user> <user> thanks sir > > don't trip lil ma...  1\n",
              "4            4  visiting my brother tmr is the bestest birthda...  1\n",
              "...        ...                                                ... ..\n",
              "199995  199995  can't wait to fake tan tonight ! hate being pa...  0\n",
              "199996  199996  <user> darling i lost my internet connection ....  0\n",
              "199997  199997  kanguru defender basic 4 gb usb 2.0 flash driv...  0\n",
              "199998  199998                                 rizan is sad now\\n  0\n",
              "199999  199999                      no text back ? yea , he mad\\n  0\n",
              "\n",
              "[200000 rows x 3 columns]"
            ],
            "text/html": [
              "\n",
              "  <div id=\"df-b7cbb884-9fcb-41cc-a685-c87bf1bcd47d\">\n",
              "    <div class=\"colab-df-container\">\n",
              "      <div>\n",
              "<style scoped>\n",
              "    .dataframe tbody tr th:only-of-type {\n",
              "        vertical-align: middle;\n",
              "    }\n",
              "\n",
              "    .dataframe tbody tr th {\n",
              "        vertical-align: top;\n",
              "    }\n",
              "\n",
              "    .dataframe thead th {\n",
              "        text-align: right;\n",
              "    }\n",
              "</style>\n",
              "<table border=\"1\" class=\"dataframe\">\n",
              "  <thead>\n",
              "    <tr style=\"text-align: right;\">\n",
              "      <th></th>\n",
              "      <th>index</th>\n",
              "      <th>x</th>\n",
              "      <th>y</th>\n",
              "    </tr>\n",
              "  </thead>\n",
              "  <tbody>\n",
              "    <tr>\n",
              "      <th>0</th>\n",
              "      <td>0</td>\n",
              "      <td>&lt;user&gt; i dunno justin read my mention or not ....</td>\n",
              "      <td>1</td>\n",
              "    </tr>\n",
              "    <tr>\n",
              "      <th>1</th>\n",
              "      <td>1</td>\n",
              "      <td>because your logic is so dumb , i won't even c...</td>\n",
              "      <td>1</td>\n",
              "    </tr>\n",
              "    <tr>\n",
              "      <th>2</th>\n",
              "      <td>2</td>\n",
              "      <td>\" &lt;user&gt; just put casper in a box ! \" looved t...</td>\n",
              "      <td>1</td>\n",
              "    </tr>\n",
              "    <tr>\n",
              "      <th>3</th>\n",
              "      <td>3</td>\n",
              "      <td>&lt;user&gt; &lt;user&gt; thanks sir &gt; &gt; don't trip lil ma...</td>\n",
              "      <td>1</td>\n",
              "    </tr>\n",
              "    <tr>\n",
              "      <th>4</th>\n",
              "      <td>4</td>\n",
              "      <td>visiting my brother tmr is the bestest birthda...</td>\n",
              "      <td>1</td>\n",
              "    </tr>\n",
              "    <tr>\n",
              "      <th>...</th>\n",
              "      <td>...</td>\n",
              "      <td>...</td>\n",
              "      <td>...</td>\n",
              "    </tr>\n",
              "    <tr>\n",
              "      <th>199995</th>\n",
              "      <td>199995</td>\n",
              "      <td>can't wait to fake tan tonight ! hate being pa...</td>\n",
              "      <td>0</td>\n",
              "    </tr>\n",
              "    <tr>\n",
              "      <th>199996</th>\n",
              "      <td>199996</td>\n",
              "      <td>&lt;user&gt; darling i lost my internet connection ....</td>\n",
              "      <td>0</td>\n",
              "    </tr>\n",
              "    <tr>\n",
              "      <th>199997</th>\n",
              "      <td>199997</td>\n",
              "      <td>kanguru defender basic 4 gb usb 2.0 flash driv...</td>\n",
              "      <td>0</td>\n",
              "    </tr>\n",
              "    <tr>\n",
              "      <th>199998</th>\n",
              "      <td>199998</td>\n",
              "      <td>rizan is sad now\\n</td>\n",
              "      <td>0</td>\n",
              "    </tr>\n",
              "    <tr>\n",
              "      <th>199999</th>\n",
              "      <td>199999</td>\n",
              "      <td>no text back ? yea , he mad\\n</td>\n",
              "      <td>0</td>\n",
              "    </tr>\n",
              "  </tbody>\n",
              "</table>\n",
              "<p>200000 rows × 3 columns</p>\n",
              "</div>\n",
              "      <button class=\"colab-df-convert\" onclick=\"convertToInteractive('df-b7cbb884-9fcb-41cc-a685-c87bf1bcd47d')\"\n",
              "              title=\"Convert this dataframe to an interactive table.\"\n",
              "              style=\"display:none;\">\n",
              "        \n",
              "  <svg xmlns=\"http://www.w3.org/2000/svg\" height=\"24px\"viewBox=\"0 0 24 24\"\n",
              "       width=\"24px\">\n",
              "    <path d=\"M0 0h24v24H0V0z\" fill=\"none\"/>\n",
              "    <path d=\"M18.56 5.44l.94 2.06.94-2.06 2.06-.94-2.06-.94-.94-2.06-.94 2.06-2.06.94zm-11 1L8.5 8.5l.94-2.06 2.06-.94-2.06-.94L8.5 2.5l-.94 2.06-2.06.94zm10 10l.94 2.06.94-2.06 2.06-.94-2.06-.94-.94-2.06-.94 2.06-2.06.94z\"/><path d=\"M17.41 7.96l-1.37-1.37c-.4-.4-.92-.59-1.43-.59-.52 0-1.04.2-1.43.59L10.3 9.45l-7.72 7.72c-.78.78-.78 2.05 0 2.83L4 21.41c.39.39.9.59 1.41.59.51 0 1.02-.2 1.41-.59l7.78-7.78 2.81-2.81c.8-.78.8-2.07 0-2.86zM5.41 20L4 18.59l7.72-7.72 1.47 1.35L5.41 20z\"/>\n",
              "  </svg>\n",
              "      </button>\n",
              "      \n",
              "  <style>\n",
              "    .colab-df-container {\n",
              "      display:flex;\n",
              "      flex-wrap:wrap;\n",
              "      gap: 12px;\n",
              "    }\n",
              "\n",
              "    .colab-df-convert {\n",
              "      background-color: #E8F0FE;\n",
              "      border: none;\n",
              "      border-radius: 50%;\n",
              "      cursor: pointer;\n",
              "      display: none;\n",
              "      fill: #1967D2;\n",
              "      height: 32px;\n",
              "      padding: 0 0 0 0;\n",
              "      width: 32px;\n",
              "    }\n",
              "\n",
              "    .colab-df-convert:hover {\n",
              "      background-color: #E2EBFA;\n",
              "      box-shadow: 0px 1px 2px rgba(60, 64, 67, 0.3), 0px 1px 3px 1px rgba(60, 64, 67, 0.15);\n",
              "      fill: #174EA6;\n",
              "    }\n",
              "\n",
              "    [theme=dark] .colab-df-convert {\n",
              "      background-color: #3B4455;\n",
              "      fill: #D2E3FC;\n",
              "    }\n",
              "\n",
              "    [theme=dark] .colab-df-convert:hover {\n",
              "      background-color: #434B5C;\n",
              "      box-shadow: 0px 1px 3px 1px rgba(0, 0, 0, 0.15);\n",
              "      filter: drop-shadow(0px 1px 2px rgba(0, 0, 0, 0.3));\n",
              "      fill: #FFFFFF;\n",
              "    }\n",
              "  </style>\n",
              "\n",
              "      <script>\n",
              "        const buttonEl =\n",
              "          document.querySelector('#df-b7cbb884-9fcb-41cc-a685-c87bf1bcd47d button.colab-df-convert');\n",
              "        buttonEl.style.display =\n",
              "          google.colab.kernel.accessAllowed ? 'block' : 'none';\n",
              "\n",
              "        async function convertToInteractive(key) {\n",
              "          const element = document.querySelector('#df-b7cbb884-9fcb-41cc-a685-c87bf1bcd47d');\n",
              "          const dataTable =\n",
              "            await google.colab.kernel.invokeFunction('convertToInteractive',\n",
              "                                                     [key], {});\n",
              "          if (!dataTable) return;\n",
              "\n",
              "          const docLinkHtml = 'Like what you see? Visit the ' +\n",
              "            '<a target=\"_blank\" href=https://colab.research.google.com/notebooks/data_table.ipynb>data table notebook</a>'\n",
              "            + ' to learn more about interactive tables.';\n",
              "          element.innerHTML = '';\n",
              "          dataTable['output_type'] = 'display_data';\n",
              "          await google.colab.output.renderOutput(dataTable, element);\n",
              "          const docLink = document.createElement('div');\n",
              "          docLink.innerHTML = docLinkHtml;\n",
              "          element.appendChild(docLink);\n",
              "        }\n",
              "      </script>\n",
              "    </div>\n",
              "  </div>\n",
              "  "
            ]
          },
          "metadata": {},
          "execution_count": 12
        }
      ]
    },
    {
      "cell_type": "code",
      "source": [
        "remove_tags(df)\n",
        "df"
      ],
      "metadata": {
        "id": "CkOtezXt2RBp",
        "colab": {
          "base_uri": "https://localhost:8080/",
          "height": 424
        },
        "outputId": "7019b376-edb1-4fdc-daf9-600e7283bc3f"
      },
      "execution_count": 13,
      "outputs": [
        {
          "output_type": "execute_result",
          "data": {
            "text/plain": [
              "         index                                                  x  y\n",
              "0            0  i dunno justin read my mention or not . only j...  1\n",
              "1            1  because your logic is so dumb , i won't even c...  1\n",
              "2            2  \"  just put casper in a box ! \" looved the bat...  1\n",
              "3            3  thanks sir > > don't trip lil mama ... just ke...  1\n",
              "4            4  visiting my brother tmr is the bestest birthda...  1\n",
              "...        ...                                                ... ..\n",
              "199995  199995   can't wait to fake tan tonight ! hate being pale  0\n",
              "199996  199996  darling i lost my internet connection .. and i...  0\n",
              "199997  199997  kanguru defender basic 4 gb usb 2.0 flash driv...  0\n",
              "199998  199998                                   rizan is sad now  0\n",
              "199999  199999                        no text back ? yea , he mad  0\n",
              "\n",
              "[200000 rows x 3 columns]"
            ],
            "text/html": [
              "\n",
              "  <div id=\"df-2442b364-f2fe-44b5-8a17-f7ab93cccabc\">\n",
              "    <div class=\"colab-df-container\">\n",
              "      <div>\n",
              "<style scoped>\n",
              "    .dataframe tbody tr th:only-of-type {\n",
              "        vertical-align: middle;\n",
              "    }\n",
              "\n",
              "    .dataframe tbody tr th {\n",
              "        vertical-align: top;\n",
              "    }\n",
              "\n",
              "    .dataframe thead th {\n",
              "        text-align: right;\n",
              "    }\n",
              "</style>\n",
              "<table border=\"1\" class=\"dataframe\">\n",
              "  <thead>\n",
              "    <tr style=\"text-align: right;\">\n",
              "      <th></th>\n",
              "      <th>index</th>\n",
              "      <th>x</th>\n",
              "      <th>y</th>\n",
              "    </tr>\n",
              "  </thead>\n",
              "  <tbody>\n",
              "    <tr>\n",
              "      <th>0</th>\n",
              "      <td>0</td>\n",
              "      <td>i dunno justin read my mention or not . only j...</td>\n",
              "      <td>1</td>\n",
              "    </tr>\n",
              "    <tr>\n",
              "      <th>1</th>\n",
              "      <td>1</td>\n",
              "      <td>because your logic is so dumb , i won't even c...</td>\n",
              "      <td>1</td>\n",
              "    </tr>\n",
              "    <tr>\n",
              "      <th>2</th>\n",
              "      <td>2</td>\n",
              "      <td>\"  just put casper in a box ! \" looved the bat...</td>\n",
              "      <td>1</td>\n",
              "    </tr>\n",
              "    <tr>\n",
              "      <th>3</th>\n",
              "      <td>3</td>\n",
              "      <td>thanks sir &gt; &gt; don't trip lil mama ... just ke...</td>\n",
              "      <td>1</td>\n",
              "    </tr>\n",
              "    <tr>\n",
              "      <th>4</th>\n",
              "      <td>4</td>\n",
              "      <td>visiting my brother tmr is the bestest birthda...</td>\n",
              "      <td>1</td>\n",
              "    </tr>\n",
              "    <tr>\n",
              "      <th>...</th>\n",
              "      <td>...</td>\n",
              "      <td>...</td>\n",
              "      <td>...</td>\n",
              "    </tr>\n",
              "    <tr>\n",
              "      <th>199995</th>\n",
              "      <td>199995</td>\n",
              "      <td>can't wait to fake tan tonight ! hate being pale</td>\n",
              "      <td>0</td>\n",
              "    </tr>\n",
              "    <tr>\n",
              "      <th>199996</th>\n",
              "      <td>199996</td>\n",
              "      <td>darling i lost my internet connection .. and i...</td>\n",
              "      <td>0</td>\n",
              "    </tr>\n",
              "    <tr>\n",
              "      <th>199997</th>\n",
              "      <td>199997</td>\n",
              "      <td>kanguru defender basic 4 gb usb 2.0 flash driv...</td>\n",
              "      <td>0</td>\n",
              "    </tr>\n",
              "    <tr>\n",
              "      <th>199998</th>\n",
              "      <td>199998</td>\n",
              "      <td>rizan is sad now</td>\n",
              "      <td>0</td>\n",
              "    </tr>\n",
              "    <tr>\n",
              "      <th>199999</th>\n",
              "      <td>199999</td>\n",
              "      <td>no text back ? yea , he mad</td>\n",
              "      <td>0</td>\n",
              "    </tr>\n",
              "  </tbody>\n",
              "</table>\n",
              "<p>200000 rows × 3 columns</p>\n",
              "</div>\n",
              "      <button class=\"colab-df-convert\" onclick=\"convertToInteractive('df-2442b364-f2fe-44b5-8a17-f7ab93cccabc')\"\n",
              "              title=\"Convert this dataframe to an interactive table.\"\n",
              "              style=\"display:none;\">\n",
              "        \n",
              "  <svg xmlns=\"http://www.w3.org/2000/svg\" height=\"24px\"viewBox=\"0 0 24 24\"\n",
              "       width=\"24px\">\n",
              "    <path d=\"M0 0h24v24H0V0z\" fill=\"none\"/>\n",
              "    <path d=\"M18.56 5.44l.94 2.06.94-2.06 2.06-.94-2.06-.94-.94-2.06-.94 2.06-2.06.94zm-11 1L8.5 8.5l.94-2.06 2.06-.94-2.06-.94L8.5 2.5l-.94 2.06-2.06.94zm10 10l.94 2.06.94-2.06 2.06-.94-2.06-.94-.94-2.06-.94 2.06-2.06.94z\"/><path d=\"M17.41 7.96l-1.37-1.37c-.4-.4-.92-.59-1.43-.59-.52 0-1.04.2-1.43.59L10.3 9.45l-7.72 7.72c-.78.78-.78 2.05 0 2.83L4 21.41c.39.39.9.59 1.41.59.51 0 1.02-.2 1.41-.59l7.78-7.78 2.81-2.81c.8-.78.8-2.07 0-2.86zM5.41 20L4 18.59l7.72-7.72 1.47 1.35L5.41 20z\"/>\n",
              "  </svg>\n",
              "      </button>\n",
              "      \n",
              "  <style>\n",
              "    .colab-df-container {\n",
              "      display:flex;\n",
              "      flex-wrap:wrap;\n",
              "      gap: 12px;\n",
              "    }\n",
              "\n",
              "    .colab-df-convert {\n",
              "      background-color: #E8F0FE;\n",
              "      border: none;\n",
              "      border-radius: 50%;\n",
              "      cursor: pointer;\n",
              "      display: none;\n",
              "      fill: #1967D2;\n",
              "      height: 32px;\n",
              "      padding: 0 0 0 0;\n",
              "      width: 32px;\n",
              "    }\n",
              "\n",
              "    .colab-df-convert:hover {\n",
              "      background-color: #E2EBFA;\n",
              "      box-shadow: 0px 1px 2px rgba(60, 64, 67, 0.3), 0px 1px 3px 1px rgba(60, 64, 67, 0.15);\n",
              "      fill: #174EA6;\n",
              "    }\n",
              "\n",
              "    [theme=dark] .colab-df-convert {\n",
              "      background-color: #3B4455;\n",
              "      fill: #D2E3FC;\n",
              "    }\n",
              "\n",
              "    [theme=dark] .colab-df-convert:hover {\n",
              "      background-color: #434B5C;\n",
              "      box-shadow: 0px 1px 3px 1px rgba(0, 0, 0, 0.15);\n",
              "      filter: drop-shadow(0px 1px 2px rgba(0, 0, 0, 0.3));\n",
              "      fill: #FFFFFF;\n",
              "    }\n",
              "  </style>\n",
              "\n",
              "      <script>\n",
              "        const buttonEl =\n",
              "          document.querySelector('#df-2442b364-f2fe-44b5-8a17-f7ab93cccabc button.colab-df-convert');\n",
              "        buttonEl.style.display =\n",
              "          google.colab.kernel.accessAllowed ? 'block' : 'none';\n",
              "\n",
              "        async function convertToInteractive(key) {\n",
              "          const element = document.querySelector('#df-2442b364-f2fe-44b5-8a17-f7ab93cccabc');\n",
              "          const dataTable =\n",
              "            await google.colab.kernel.invokeFunction('convertToInteractive',\n",
              "                                                     [key], {});\n",
              "          if (!dataTable) return;\n",
              "\n",
              "          const docLinkHtml = 'Like what you see? Visit the ' +\n",
              "            '<a target=\"_blank\" href=https://colab.research.google.com/notebooks/data_table.ipynb>data table notebook</a>'\n",
              "            + ' to learn more about interactive tables.';\n",
              "          element.innerHTML = '';\n",
              "          dataTable['output_type'] = 'display_data';\n",
              "          await google.colab.output.renderOutput(dataTable, element);\n",
              "          const docLink = document.createElement('div');\n",
              "          docLink.innerHTML = docLinkHtml;\n",
              "          element.appendChild(docLink);\n",
              "        }\n",
              "      </script>\n",
              "    </div>\n",
              "  </div>\n",
              "  "
            ]
          },
          "metadata": {},
          "execution_count": 13
        }
      ]
    },
    {
      "cell_type": "markdown",
      "source": [
        "FastText Implementation: Installation"
      ],
      "metadata": {
        "id": "7lCo_3gaEtSo"
      }
    },
    {
      "cell_type": "code",
      "source": [
        "!wget https://github.com/facebookresearch/fastText/archive/0.2.0.zip\n",
        "!unzip 0.2.0.zip\n",
        "%cd fastText-0.2.0\n",
        "!make\n",
        "print(\"done installing\")"
      ],
      "metadata": {
        "id": "FOqzn8uJ2alA"
      },
      "execution_count": null,
      "outputs": []
    },
    {
      "cell_type": "code",
      "source": [
        "#OPTIONAL\n",
        "!git clone https://github.com/facebookresearch/fastText.git\n",
        "%cd fastText\n",
        "!pip install .\n",
        "\n",
        "!pip show fastText\n",
        "\n"
      ],
      "metadata": {
        "id": "k-yeNYxbRttZ"
      },
      "execution_count": null,
      "outputs": []
    },
    {
      "cell_type": "markdown",
      "source": [
        "Adapt Dataset such that it works for training"
      ],
      "metadata": {
        "id": "xpA5TFN7E0vl"
      }
    },
    {
      "cell_type": "code",
      "source": [
        "from sklearn.model_selection import train_test_split\n",
        "\n",
        "#split into train and test data\n",
        "train, test = train_test_split(df, test_size=0.2)\n",
        "\n",
        "#fastText can only recognize labels of the form __label__0 and __label__1, e.g convert \"no text back ? yea , he mad\" to \"__label__0 no text back ? yea , he mad\"\n",
        "for index, row in train.iterrows():\n",
        "    res = \"__label__\" + str(row['y']) + \" \" + row['x']\n",
        "    train.at[index,'x'] = res"
      ],
      "metadata": {
        "id": "NSaZXHJ9QIyg"
      },
      "execution_count": 14,
      "outputs": []
    },
    {
      "cell_type": "code",
      "source": [
        "from google.colab import files\n",
        "\n",
        "\n",
        "print(train['x'])\n",
        "print(test['x'])\n",
        "#write contents to files\n",
        "f = open('trainCleaned.txt', 'w')\n",
        "for index, row in train.iterrows():\n",
        "    #print(row['x'])\n",
        "    f.write(row['x']+\"\\n\")\n",
        "\n",
        "f.close()\n",
        "\n",
        "f = open('ValCleaned.txt', 'w')\n",
        "for index, row in test.iterrows():\n",
        "    f.write(row['x']+\"\\n\")\n",
        "\n",
        "f.close()\n",
        "\n",
        "files.download('trainCleaned.txt')\n",
        "files.download('ValCleaned.txt')"
      ],
      "metadata": {
        "colab": {
          "base_uri": "https://localhost:8080/",
          "height": 434
        },
        "id": "4R011VvSEpMM",
        "outputId": "f9d47dc2-e9ea-4861-b133-2e278c12db11"
      },
      "execution_count": 15,
      "outputs": [
        {
          "output_type": "stream",
          "name": "stdout",
          "text": [
            "186181    __label__0 amen : 100 chillout classics - the ...\n",
            "56687         __label__1 i woke up in a really great mood !\n",
            "193799                                __label__0 he said no\n",
            "39028     __label__1 hey emeli . massive fan from aus ! ...\n",
            "78116        __label__1 hey , here's how i gain followers :\n",
            "                                ...                        \n",
            "97972                  __label__1 ahhh who's on next then ?\n",
            "179441    __label__0 just got home after such an exhaust...\n",
            "122966    __label__0 i'm sad that i wasn't home to sleep...\n",
            "27628                     __label__1 i can live with that .\n",
            "12052                      __label__1 haha what can i say !\n",
            "Name: x, Length: 160000, dtype: object\n",
            "71137     i always wondered what a guy named bruno names...\n",
            "13149         loool , i do this :/ what colour isittt ? : o\n",
            "196451    citizens of humanity maternity : kelly - new p...\n",
            "107089    my bloody valentine 3d ( two-disc special edit...\n",
            "16397     haha oh yeah , i personally like when he gets ...\n",
            "                                ...                        \n",
            "137873    fernando torres ( chelsea \" this is football ....\n",
            "116900    d-link dub-h 7 ( 7 - port usb 2.0 hub turn one...\n",
            "15061                            id sing to any girl i date\n",
            "85010                              i'm going to sleep now .\n",
            "106823    omg so fast ... hmm i try to squeeze out one d...\n",
            "Name: x, Length: 40000, dtype: object\n"
          ]
        },
        {
          "output_type": "display_data",
          "data": {
            "text/plain": [
              "<IPython.core.display.Javascript object>"
            ],
            "application/javascript": [
              "\n",
              "    async function download(id, filename, size) {\n",
              "      if (!google.colab.kernel.accessAllowed) {\n",
              "        return;\n",
              "      }\n",
              "      const div = document.createElement('div');\n",
              "      const label = document.createElement('label');\n",
              "      label.textContent = `Downloading \"${filename}\": `;\n",
              "      div.appendChild(label);\n",
              "      const progress = document.createElement('progress');\n",
              "      progress.max = size;\n",
              "      div.appendChild(progress);\n",
              "      document.body.appendChild(div);\n",
              "\n",
              "      const buffers = [];\n",
              "      let downloaded = 0;\n",
              "\n",
              "      const channel = await google.colab.kernel.comms.open(id);\n",
              "      // Send a message to notify the kernel that we're ready.\n",
              "      channel.send({})\n",
              "\n",
              "      for await (const message of channel.messages) {\n",
              "        // Send a message to notify the kernel that we're ready.\n",
              "        channel.send({})\n",
              "        if (message.buffers) {\n",
              "          for (const buffer of message.buffers) {\n",
              "            buffers.push(buffer);\n",
              "            downloaded += buffer.byteLength;\n",
              "            progress.value = downloaded;\n",
              "          }\n",
              "        }\n",
              "      }\n",
              "      const blob = new Blob(buffers, {type: 'application/binary'});\n",
              "      const a = document.createElement('a');\n",
              "      a.href = window.URL.createObjectURL(blob);\n",
              "      a.download = filename;\n",
              "      div.appendChild(a);\n",
              "      a.click();\n",
              "      div.remove();\n",
              "    }\n",
              "  "
            ]
          },
          "metadata": {}
        },
        {
          "output_type": "display_data",
          "data": {
            "text/plain": [
              "<IPython.core.display.Javascript object>"
            ],
            "application/javascript": [
              "download(\"download_39088bb2-a026-4a6a-8cb7-fd00f8cc8f9e\", \"trainCleaned.txt\", 13168053)"
            ]
          },
          "metadata": {}
        },
        {
          "output_type": "display_data",
          "data": {
            "text/plain": [
              "<IPython.core.display.Javascript object>"
            ],
            "application/javascript": [
              "\n",
              "    async function download(id, filename, size) {\n",
              "      if (!google.colab.kernel.accessAllowed) {\n",
              "        return;\n",
              "      }\n",
              "      const div = document.createElement('div');\n",
              "      const label = document.createElement('label');\n",
              "      label.textContent = `Downloading \"${filename}\": `;\n",
              "      div.appendChild(label);\n",
              "      const progress = document.createElement('progress');\n",
              "      progress.max = size;\n",
              "      div.appendChild(progress);\n",
              "      document.body.appendChild(div);\n",
              "\n",
              "      const buffers = [];\n",
              "      let downloaded = 0;\n",
              "\n",
              "      const channel = await google.colab.kernel.comms.open(id);\n",
              "      // Send a message to notify the kernel that we're ready.\n",
              "      channel.send({})\n",
              "\n",
              "      for await (const message of channel.messages) {\n",
              "        // Send a message to notify the kernel that we're ready.\n",
              "        channel.send({})\n",
              "        if (message.buffers) {\n",
              "          for (const buffer of message.buffers) {\n",
              "            buffers.push(buffer);\n",
              "            downloaded += buffer.byteLength;\n",
              "            progress.value = downloaded;\n",
              "          }\n",
              "        }\n",
              "      }\n",
              "      const blob = new Blob(buffers, {type: 'application/binary'});\n",
              "      const a = document.createElement('a');\n",
              "      a.href = window.URL.createObjectURL(blob);\n",
              "      a.download = filename;\n",
              "      div.appendChild(a);\n",
              "      a.click();\n",
              "      div.remove();\n",
              "    }\n",
              "  "
            ]
          },
          "metadata": {}
        },
        {
          "output_type": "display_data",
          "data": {
            "text/plain": [
              "<IPython.core.display.Javascript object>"
            ],
            "application/javascript": [
              "download(\"download_86b8e125-7c9a-41e4-8af9-bdd4fca663da\", \"ValCleaned.txt\", 2849518)"
            ]
          },
          "metadata": {}
        }
      ]
    },
    {
      "cell_type": "markdown",
      "source": [
        "Training"
      ],
      "metadata": {
        "id": "bRZdkj7FE6UR"
      }
    },
    {
      "cell_type": "code",
      "source": [
        "!./fasttext supervised -input trainCleaned.txt -output model -dim 2"
      ],
      "metadata": {
        "colab": {
          "base_uri": "https://localhost:8080/"
        },
        "id": "GaD_niLhE-az",
        "outputId": "e3728ef4-bcee-4986-d324-956dd1d5bfe3"
      },
      "execution_count": 16,
      "outputs": [
        {
          "output_type": "stream",
          "name": "stdout",
          "text": [
            "\rRead 1M words\rRead 2M words\rRead 2M words\n",
            "Number of words:  100149\n",
            "Number of labels: 2\n",
            "Progress: 100.0% words/sec/thread:  748658 lr:  0.000000 loss:  0.406744 ETA:   0h 0m\n"
          ]
        }
      ]
    },
    {
      "cell_type": "markdown",
      "source": [
        "\n",
        "Predict & Evaluate"
      ],
      "metadata": {
        "id": "Rdi1-NgGFC2V"
      }
    },
    {
      "cell_type": "code",
      "source": [
        "#Option 1\n",
        "!cat ValCleaned.txt\n",
        "!./fasttext predict model.bin ValCleaned.txt > predictions.txt"
      ],
      "metadata": {
        "id": "l9dEZyhZFCMo"
      },
      "execution_count": null,
      "outputs": []
    },
    {
      "cell_type": "code",
      "source": [
        "#convert predictions back to int\n",
        "preds = pd.read_csv('predictions.txt', names=['Labels'], header=None)\n",
        "preds.rename( columns={'Unnamed: 0':'Labels'}, inplace=True )\n",
        "preds['Labels'] = preds['Labels'].str[-1].apply(np.int64)\n",
        "\n",
        "\n",
        "evaluate(test['y'], preds['Labels'])\n"
      ],
      "metadata": {
        "colab": {
          "base_uri": "https://localhost:8080/"
        },
        "id": "Uopqwa7la-ep",
        "outputId": "8b0a2e5f-f0d1-4dc6-c514-1a8f6dc6cd09"
      },
      "execution_count": 75,
      "outputs": [
        {
          "output_type": "stream",
          "name": "stderr",
          "text": [
            "INFO:root:---\n",
            "* accuracy: 0.825525\n",
            "* precision: 0.8110605697869284\n",
            "* recall: 0.848137392349289\n",
            "* f1: 0.8291847174290818\n",
            "* bce: 6.02623189178853\n",
            "* auc: 0.8255566130909615\n",
            "---\n"
          ]
        },
        {
          "output_type": "execute_result",
          "data": {
            "text/plain": [
              "(0.825525,\n",
              " 0.8110605697869284,\n",
              " 0.848137392349289,\n",
              " 0.8291847174290818,\n",
              " 6.02623189178853,\n",
              " 0.8255566130909615)"
            ]
          },
          "metadata": {},
          "execution_count": 75
        }
      ]
    },
    {
      "cell_type": "code",
      "source": [
        "files.download('predictions.txt')"
      ],
      "metadata": {
        "colab": {
          "base_uri": "https://localhost:8080/",
          "height": 17
        },
        "id": "GS4htYfWZ3nI",
        "outputId": "b5626130-5c06-49c9-8773-1200e39a54c4"
      },
      "execution_count": 23,
      "outputs": [
        {
          "output_type": "display_data",
          "data": {
            "text/plain": [
              "<IPython.core.display.Javascript object>"
            ],
            "application/javascript": [
              "\n",
              "    async function download(id, filename, size) {\n",
              "      if (!google.colab.kernel.accessAllowed) {\n",
              "        return;\n",
              "      }\n",
              "      const div = document.createElement('div');\n",
              "      const label = document.createElement('label');\n",
              "      label.textContent = `Downloading \"${filename}\": `;\n",
              "      div.appendChild(label);\n",
              "      const progress = document.createElement('progress');\n",
              "      progress.max = size;\n",
              "      div.appendChild(progress);\n",
              "      document.body.appendChild(div);\n",
              "\n",
              "      const buffers = [];\n",
              "      let downloaded = 0;\n",
              "\n",
              "      const channel = await google.colab.kernel.comms.open(id);\n",
              "      // Send a message to notify the kernel that we're ready.\n",
              "      channel.send({})\n",
              "\n",
              "      for await (const message of channel.messages) {\n",
              "        // Send a message to notify the kernel that we're ready.\n",
              "        channel.send({})\n",
              "        if (message.buffers) {\n",
              "          for (const buffer of message.buffers) {\n",
              "            buffers.push(buffer);\n",
              "            downloaded += buffer.byteLength;\n",
              "            progress.value = downloaded;\n",
              "          }\n",
              "        }\n",
              "      }\n",
              "      const blob = new Blob(buffers, {type: 'application/binary'});\n",
              "      const a = document.createElement('a');\n",
              "      a.href = window.URL.createObjectURL(blob);\n",
              "      a.download = filename;\n",
              "      div.appendChild(a);\n",
              "      a.click();\n",
              "      div.remove();\n",
              "    }\n",
              "  "
            ]
          },
          "metadata": {}
        },
        {
          "output_type": "display_data",
          "data": {
            "text/plain": [
              "<IPython.core.display.Javascript object>"
            ],
            "application/javascript": [
              "download(\"download_4cbce676-7dc6-4ce0-bc61-b5893a9db982\", \"predictions.txt\", 440000)"
            ]
          },
          "metadata": {}
        }
      ]
    }
  ]
}