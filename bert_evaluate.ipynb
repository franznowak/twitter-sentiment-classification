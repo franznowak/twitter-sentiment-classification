{
 "cells": [
  {
   "cell_type": "code",
   "execution_count": 1,
   "metadata": {},
   "outputs": [
    {
     "name": "stderr",
     "output_type": "stream",
     "text": [
      "/home/jonhue/projects/jonhue/twitter-sentiment-classification/venv/lib/python3.8/site-packages/tqdm/auto.py:22: TqdmWarning: IProgress not found. Please update jupyter and ipywidgets. See https://ipywidgets.readthedocs.io/en/stable/user_install.html\n",
      "  from .autonotebook import tqdm as notebook_tqdm\n"
     ]
    }
   ],
   "source": [
    "import logging\n",
    "import torch\n",
    "import numpy as np\n",
    "from transformers import AutoTokenizer, Trainer\n",
    "from datasets import Dataset, ClassLabel"
   ]
  },
  {
   "cell_type": "code",
   "execution_count": 2,
   "metadata": {},
   "outputs": [
    {
     "name": "stderr",
     "output_type": "stream",
     "text": [
      "[nltk_data] Downloading package stopwords to /home/jonhue/nltk_data...\n",
      "[nltk_data]   Package stopwords is already up-to-date!\n",
      "[nltk_data] Downloading package wordnet to /home/jonhue/nltk_data...\n",
      "[nltk_data]   Package wordnet is already up-to-date!\n"
     ]
    }
   ],
   "source": [
    "from loading import load_train\n",
    "from preprocessing import preprocess\n",
    "from evaluation import evaluate\n",
    "from bert import tokenize, get_BERT"
   ]
  },
  {
   "cell_type": "code",
   "execution_count": 3,
   "metadata": {},
   "outputs": [],
   "source": [
    "logging.basicConfig(level=logging.INFO)"
   ]
  },
  {
   "cell_type": "code",
   "execution_count": 4,
   "metadata": {},
   "outputs": [
    {
     "data": {
      "text/plain": [
       "'cuda'"
      ]
     },
     "execution_count": 4,
     "metadata": {},
     "output_type": "execute_result"
    }
   ],
   "source": [
    "device = 'cuda' if torch.cuda.is_available() else 'cpu'\n",
    "device"
   ]
  },
  {
   "cell_type": "code",
   "execution_count": 5,
   "metadata": {},
   "outputs": [],
   "source": [
    "FULL=False\n",
    "EVAL_FRAC = 0.2\n",
    "\n",
    "MODEL = 'base-small'\n",
    "TOKENIZER = 'bert-base-uncased'\n",
    "PREPROCESSING = None"
   ]
  },
  {
   "cell_type": "code",
   "execution_count": 6,
   "metadata": {},
   "outputs": [
    {
     "name": "stderr",
     "output_type": "stream",
     "text": [
      "Casting the dataset: 100%|██████████| 4/4 [00:00<00:00, 18.96ba/s]\n"
     ]
    }
   ],
   "source": [
    "_, df_eval = load_train(full=FULL, eval_frac=EVAL_FRAC, x_col='text', y_col='label', neg_label=0, pos_label=1)\n",
    "preprocess(df_eval, flags=PREPROCESSING, x_col='text')\n",
    "dataset_eval = Dataset.from_pandas(df_eval)\n",
    "\n",
    "new_features = dataset_eval.features.copy()\n",
    "new_features['label'] = ClassLabel(names=['0', '1'])\n",
    "\n",
    "dataset_eval = dataset_eval.cast(new_features)"
   ]
  },
  {
   "cell_type": "code",
   "execution_count": 7,
   "metadata": {},
   "outputs": [],
   "source": [
    "tokenizer = AutoTokenizer.from_pretrained(TOKENIZER)\n",
    "eval_tokenized = tokenize(dataset_eval, tokenizer, path=f'bert/cache/eval_tokenized__{TOKENIZER}__{EVAL_FRAC}{\"__full\" if FULL else \"\"}')"
   ]
  },
  {
   "cell_type": "code",
   "execution_count": 8,
   "metadata": {},
   "outputs": [],
   "source": [
    "model = get_BERT(MODEL, device)"
   ]
  },
  {
   "cell_type": "code",
   "execution_count": 9,
   "metadata": {},
   "outputs": [],
   "source": [
    "def compute_metrics(eval_pred):\n",
    "  predictions, labels = eval_pred\n",
    "  predictions = np.argmax(predictions, axis=1)\n",
    "  return evaluate(labels, predictions)\n",
    "\n",
    "trainer = Trainer(model, eval_dataset=eval_tokenized, tokenizer=tokenizer, compute_metrics=compute_metrics)"
   ]
  },
  {
   "cell_type": "code",
   "execution_count": 10,
   "metadata": {},
   "outputs": [
    {
     "name": "stderr",
     "output_type": "stream",
     "text": [
      "The following columns in the evaluation set don't have a corresponding argument in `DistilBertForSequenceClassification.forward` and have been ignored: index, text, token_type_ids, __index_level_0__. If index, text, token_type_ids, __index_level_0__ are not expected by `DistilBertForSequenceClassification.forward`,  you can safely ignore this message.\n",
      "***** Running Evaluation *****\n",
      "  Num examples = 40000\n",
      "  Batch size = 8\n"
     ]
    },
    {
     "data": {
      "text/html": [
       "\n",
       "    <div>\n",
       "      \n",
       "      <progress value='5000' max='5000' style='width:300px; height:20px; vertical-align: middle;'></progress>\n",
       "      [5000/5000 03:04]\n",
       "    </div>\n",
       "    "
      ],
      "text/plain": [
       "<IPython.core.display.HTML object>"
      ]
     },
     "metadata": {},
     "output_type": "display_data"
    },
    {
     "name": "stderr",
     "output_type": "stream",
     "text": [
      "INFO:root:---\n",
      "* accuracy: 0.9044\n",
      "* precision: 0.8971451111878113\n",
      "* recall: 0.9128079064867306\n",
      "* f1: 0.9049087382503606\n",
      "* bce: 3.3019487223594464\n",
      "* auc: 0.904428072444043\n",
      "---\n"
     ]
    },
    {
     "data": {
      "text/plain": [
       "{'eval_loss': 0.2327585518360138,\n",
       " 'eval_accuracy': 0.9044,\n",
       " 'eval_precision': 0.8971451111878113,\n",
       " 'eval_recall': 0.9128079064867306,\n",
       " 'eval_f1': 0.9049087382503606,\n",
       " 'eval_bce': 3.3019487223594464,\n",
       " 'eval_auc': 0.904428072444043,\n",
       " 'eval_runtime': 185.464,\n",
       " 'eval_samples_per_second': 215.675,\n",
       " 'eval_steps_per_second': 26.959}"
      ]
     },
     "execution_count": 10,
     "metadata": {},
     "output_type": "execute_result"
    }
   ],
   "source": [
    "trainer.evaluate()"
   ]
  },
  {
   "cell_type": "code",
   "execution_count": null,
   "metadata": {},
   "outputs": [],
   "source": []
  }
 ],
 "metadata": {
  "kernelspec": {
   "display_name": "Python 3.9.13 ('venv': venv)",
   "language": "python",
   "name": "python3"
  },
  "language_info": {
   "codemirror_mode": {
    "name": "ipython",
    "version": 3
   },
   "file_extension": ".py",
   "mimetype": "text/x-python",
   "name": "python",
   "nbconvert_exporter": "python",
   "pygments_lexer": "ipython3",
   "version": "3.9.13"
  },
  "orig_nbformat": 4,
  "vscode": {
   "interpreter": {
    "hash": "60c0dbeaf21558ddf50266f36cb8b3959a1efdbf8c1538f21831715a494e0c8d"
   }
  }
 },
 "nbformat": 4,
 "nbformat_minor": 2
}
