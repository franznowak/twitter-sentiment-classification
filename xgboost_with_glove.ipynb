{
 "cells": [
  {
   "cell_type": "markdown",
   "id": "b0e37831",
   "metadata": {},
   "source": [
    "## XGBoost with Glove"
   ]
  },
  {
   "cell_type": "code",
   "execution_count": 45,
   "id": "6a2e217a",
   "metadata": {},
   "outputs": [
    {
     "name": "stderr",
     "output_type": "stream",
     "text": [
      "[nltk_data] Downloading package stopwords to /Users/franz/nltk_data...\n",
      "[nltk_data]   Unzipping corpora/stopwords.zip.\n",
      "[nltk_data] Downloading package wordnet to /Users/franz/nltk_data...\n",
      "[nltk_data]   Package wordnet is already up-to-date!\n"
     ]
    }
   ],
   "source": [
    "import scipy\n",
    "from scipy.sparse import *\n",
    "import numpy as np\n",
    "import pickle\n",
    "import pandas as pd\n",
    "from loading import load_train\n",
    "from preprocessing import *"
   ]
  },
  {
   "cell_type": "code",
   "execution_count": 3,
   "id": "5beeb526",
   "metadata": {},
   "outputs": [
    {
     "data": {
      "text/plain": [
       "'1.8.1'"
      ]
     },
     "execution_count": 3,
     "metadata": {},
     "output_type": "execute_result"
    }
   ],
   "source": [
    "scipy.__version__"
   ]
  },
  {
   "cell_type": "markdown",
   "id": "dc0ef708",
   "metadata": {},
   "source": [
    "### Embedding"
   ]
  },
  {
   "cell_type": "markdown",
   "id": "8d815f90",
   "metadata": {},
   "source": [
    "Load vocab"
   ]
  },
  {
   "cell_type": "code",
   "execution_count": 29,
   "id": "45b1054a",
   "metadata": {},
   "outputs": [
    {
     "data": {
      "text/plain": [
       "114427"
      ]
     },
     "execution_count": 29,
     "metadata": {},
     "output_type": "execute_result"
    }
   ],
   "source": [
    "vocab = set()\n",
    "with open(\"data/vocab.txt\", \"r\") as vocab_file:\n",
    "    for line in vocab_file:\n",
    "        line_ = line.split()\n",
    "        vocab.add(line_[1])\n",
    "len(vocab)"
   ]
  },
  {
   "cell_type": "markdown",
   "id": "024a2fc6",
   "metadata": {},
   "source": [
    "Load coocurrence matrix"
   ]
  },
  {
   "cell_type": "code",
   "execution_count": 92,
   "id": "802d872f",
   "metadata": {},
   "outputs": [
    {
     "data": {
      "text/plain": [
       "1193514"
      ]
     },
     "execution_count": 92,
     "metadata": {},
     "output_type": "execute_result"
    }
   ],
   "source": [
    "embeddings = {}\n",
    "with open(\"data/glove/glove.twitter.27B.200d.txt\", \"r\") as glove_file:\n",
    "    for line in glove_file:\n",
    "        line_ = line.split()\n",
    "        word = line_[0]\n",
    "        vec = np.asarray(line_[1:], \"float32\")\n",
    "        embeddings[word] = vec\n",
    "len(embeddings.keys())"
   ]
  },
  {
   "cell_type": "markdown",
   "id": "048df782",
   "metadata": {},
   "source": [
    "### Prepare data"
   ]
  },
  {
   "cell_type": "code",
   "execution_count": 93,
   "id": "dd1b528b",
   "metadata": {},
   "outputs": [],
   "source": [
    "df = load_train(full=True)\n",
    "remove_tags(df)\n",
    "tokenize(df)"
   ]
  },
  {
   "cell_type": "code",
   "execution_count": 94,
   "id": "dd6e0b4e",
   "metadata": {},
   "outputs": [],
   "source": [
    "df.y = df.y.apply(lambda y: 1 if y == 1 else 0)"
   ]
  },
  {
   "cell_type": "code",
   "execution_count": 97,
   "id": "7b7d9b06",
   "metadata": {},
   "outputs": [],
   "source": [
    "def tweet_embedding(tokens):\n",
    "    embedding = np.zeros(200)\n",
    "    for token in tokens:\n",
    "        if token in embeddings:\n",
    "            embedding += embeddings[token]\n",
    "    return embedding"
   ]
  },
  {
   "cell_type": "code",
   "execution_count": 98,
   "id": "149dfe84",
   "metadata": {},
   "outputs": [],
   "source": [
    "df['embedding'] = df.x.apply(lambda tokens: tweet_embedding(tokens))"
   ]
  },
  {
   "cell_type": "code",
   "execution_count": 99,
   "id": "ce3eacaa",
   "metadata": {},
   "outputs": [],
   "source": [
    "from sklearn.utils import shuffle\n",
    "df = shuffle(df)"
   ]
  },
  {
   "cell_type": "code",
   "execution_count": 100,
   "id": "388e97bf",
   "metadata": {},
   "outputs": [],
   "source": [
    "x_train = np.vstack(df.iloc[:180000].embedding)\n",
    "y_train = df.iloc[:180000].y\n",
    "x_test = np.vstack(df.iloc[180000:].embedding)\n",
    "y_test = df.iloc[180000:].y"
   ]
  },
  {
   "cell_type": "markdown",
   "id": "64381f21",
   "metadata": {},
   "source": [
    "### XGBoost"
   ]
  },
  {
   "cell_type": "code",
   "execution_count": 79,
   "id": "f893469a",
   "metadata": {},
   "outputs": [],
   "source": [
    "import torch\n",
    "import logging\n",
    "from evaluation import evaluate\n",
    "\n",
    "logging.basicConfig(level=logging.INFO)"
   ]
  },
  {
   "cell_type": "code",
   "execution_count": 101,
   "id": "0b7527d4",
   "metadata": {},
   "outputs": [],
   "source": [
    "from xgboost import XGBClassifier\n",
    "\n",
    "xgb_model = XGBClassifier(max_depth=6, n_estimators=1000).fit(x_train, y_train)\n",
    "y_predict = xgb_model.predict(x_test)"
   ]
  },
  {
   "cell_type": "code",
   "execution_count": 102,
   "id": "df18845d",
   "metadata": {},
   "outputs": [
    {
     "name": "stderr",
     "output_type": "stream",
     "text": [
      "INFO:root:---\n",
      "* accuracy: 0.805207327586207\n",
      "* precision: 0.7923595572438504\n",
      "* recall: 0.8271034080797909\n",
      "* f1: 0.8093587865283622\n",
      "* bce: 6.727987197763114\n",
      "* auc: 0.8052104982834878\n",
      "---\n"
     ]
    },
    {
     "data": {
      "text/plain": [
       "(0.805207327586207,\n",
       " 0.7923595572438504,\n",
       " 0.8271034080797909,\n",
       " 0.8093587865283622,\n",
       " 6.727987197763114,\n",
       " 0.8052104982834878)"
      ]
     },
     "execution_count": 102,
     "metadata": {},
     "output_type": "execute_result"
    }
   ],
   "source": [
    "evaluate(y_test, y_predict)"
   ]
  },
  {
   "cell_type": "markdown",
   "id": "2ef8ccf1",
   "metadata": {},
   "source": [
    "### Save test prediction"
   ]
  },
  {
   "cell_type": "code",
   "execution_count": 103,
   "id": "d3092573",
   "metadata": {},
   "outputs": [],
   "source": [
    "from loading import load_test"
   ]
  },
  {
   "cell_type": "code",
   "execution_count": 104,
   "id": "db2600df",
   "metadata": {},
   "outputs": [],
   "source": [
    "df2 = load_test()\n",
    "remove_tags(df2)\n",
    "tokenize(df2)"
   ]
  },
  {
   "cell_type": "code",
   "execution_count": 112,
   "id": "54ae6d8f",
   "metadata": {},
   "outputs": [],
   "source": [
    "df2['embedding'] = df2.x.apply(lambda tokens: tweet_embedding(tokens))\n",
    "predictions = xgb_model.predict(np.stack(df2.embedding))"
   ]
  },
  {
   "cell_type": "code",
   "execution_count": 135,
   "id": "f27dc97b",
   "metadata": {},
   "outputs": [],
   "source": [
    "out = pd.DataFrame(np.arange(1, len(out)+1), columns=[\"Id\"])"
   ]
  },
  {
   "cell_type": "code",
   "execution_count": 137,
   "id": "aa6ceb6a",
   "metadata": {},
   "outputs": [],
   "source": [
    "out[\"Prediction\"] = predictions\n",
    "out.Prediction = out.Prediction.apply(lambda y:y if y == 1 else -1)"
   ]
  },
  {
   "cell_type": "code",
   "execution_count": 138,
   "id": "d1329b71",
   "metadata": {},
   "outputs": [
    {
     "data": {
      "text/html": [
       "<div>\n",
       "<style scoped>\n",
       "    .dataframe tbody tr th:only-of-type {\n",
       "        vertical-align: middle;\n",
       "    }\n",
       "\n",
       "    .dataframe tbody tr th {\n",
       "        vertical-align: top;\n",
       "    }\n",
       "\n",
       "    .dataframe thead th {\n",
       "        text-align: right;\n",
       "    }\n",
       "</style>\n",
       "<table border=\"1\" class=\"dataframe\">\n",
       "  <thead>\n",
       "    <tr style=\"text-align: right;\">\n",
       "      <th></th>\n",
       "      <th>Id</th>\n",
       "      <th>Prediction</th>\n",
       "    </tr>\n",
       "  </thead>\n",
       "  <tbody>\n",
       "    <tr>\n",
       "      <th>0</th>\n",
       "      <td>1</td>\n",
       "      <td>-1</td>\n",
       "    </tr>\n",
       "    <tr>\n",
       "      <th>1</th>\n",
       "      <td>2</td>\n",
       "      <td>-1</td>\n",
       "    </tr>\n",
       "    <tr>\n",
       "      <th>2</th>\n",
       "      <td>3</td>\n",
       "      <td>-1</td>\n",
       "    </tr>\n",
       "    <tr>\n",
       "      <th>3</th>\n",
       "      <td>4</td>\n",
       "      <td>-1</td>\n",
       "    </tr>\n",
       "    <tr>\n",
       "      <th>4</th>\n",
       "      <td>5</td>\n",
       "      <td>-1</td>\n",
       "    </tr>\n",
       "    <tr>\n",
       "      <th>...</th>\n",
       "      <td>...</td>\n",
       "      <td>...</td>\n",
       "    </tr>\n",
       "    <tr>\n",
       "      <th>9995</th>\n",
       "      <td>9996</td>\n",
       "      <td>1</td>\n",
       "    </tr>\n",
       "    <tr>\n",
       "      <th>9996</th>\n",
       "      <td>9997</td>\n",
       "      <td>-1</td>\n",
       "    </tr>\n",
       "    <tr>\n",
       "      <th>9997</th>\n",
       "      <td>9998</td>\n",
       "      <td>-1</td>\n",
       "    </tr>\n",
       "    <tr>\n",
       "      <th>9998</th>\n",
       "      <td>9999</td>\n",
       "      <td>1</td>\n",
       "    </tr>\n",
       "    <tr>\n",
       "      <th>9999</th>\n",
       "      <td>10000</td>\n",
       "      <td>-1</td>\n",
       "    </tr>\n",
       "  </tbody>\n",
       "</table>\n",
       "<p>10000 rows × 2 columns</p>\n",
       "</div>"
      ],
      "text/plain": [
       "         Id  Prediction\n",
       "0         1          -1\n",
       "1         2          -1\n",
       "2         3          -1\n",
       "3         4          -1\n",
       "4         5          -1\n",
       "...     ...         ...\n",
       "9995   9996           1\n",
       "9996   9997          -1\n",
       "9997   9998          -1\n",
       "9998   9999           1\n",
       "9999  10000          -1\n",
       "\n",
       "[10000 rows x 2 columns]"
      ]
     },
     "execution_count": 138,
     "metadata": {},
     "output_type": "execute_result"
    }
   ],
   "source": [
    "out"
   ]
  },
  {
   "cell_type": "code",
   "execution_count": 139,
   "id": "87a79068",
   "metadata": {},
   "outputs": [],
   "source": [
    "out.to_csv(\"xgb.csv\", index=False)"
   ]
  }
 ],
 "metadata": {
  "kernelspec": {
   "display_name": "Python 3 (ipykernel)",
   "language": "python",
   "name": "python3"
  },
  "language_info": {
   "codemirror_mode": {
    "name": "ipython",
    "version": 3
   },
   "file_extension": ".py",
   "mimetype": "text/x-python",
   "name": "python",
   "nbconvert_exporter": "python",
   "pygments_lexer": "ipython3",
   "version": "3.9.7"
  }
 },
 "nbformat": 4,
 "nbformat_minor": 5
}
