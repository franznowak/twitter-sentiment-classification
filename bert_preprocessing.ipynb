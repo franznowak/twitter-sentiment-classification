{
 "cells": [
  {
   "cell_type": "code",
   "execution_count": 1,
   "metadata": {},
   "outputs": [
    {
     "name": "stderr",
     "output_type": "stream",
     "text": [
      "/home/jonhue/projects/jonhue/twitter-sentiment-classification/venv/lib/python3.8/site-packages/tqdm/auto.py:22: TqdmWarning: IProgress not found. Please update jupyter and ipywidgets. See https://ipywidgets.readthedocs.io/en/stable/user_install.html\n",
      "  from .autonotebook import tqdm as notebook_tqdm\n"
     ]
    }
   ],
   "source": [
    "import logging\n",
    "import torch\n",
    "from hyperopt import hp, fmin, tpe\n",
    "from functools import partial"
   ]
  },
  {
   "cell_type": "code",
   "execution_count": 2,
   "metadata": {},
   "outputs": [
    {
     "name": "stderr",
     "output_type": "stream",
     "text": [
      "[nltk_data] Downloading package stopwords to /home/jonhue/nltk_data...\n",
      "[nltk_data]   Package stopwords is already up-to-date!\n",
      "[nltk_data] Downloading package wordnet to /home/jonhue/nltk_data...\n",
      "[nltk_data]   Package wordnet is already up-to-date!\n"
     ]
    }
   ],
   "source": [
    "from bert import objective"
   ]
  },
  {
   "cell_type": "code",
   "execution_count": 3,
   "metadata": {},
   "outputs": [],
   "source": [
    "# logging.basicConfig(level=logging.INFO)"
   ]
  },
  {
   "cell_type": "code",
   "execution_count": 4,
   "metadata": {},
   "outputs": [
    {
     "data": {
      "text/plain": [
       "'cpu'"
      ]
     },
     "execution_count": 4,
     "metadata": {},
     "output_type": "execute_result"
    }
   ],
   "source": [
    "device = 'cpu' # 'cuda' if torch.cuda.is_available() else 'cpu'\n",
    "device"
   ]
  },
  {
   "cell_type": "code",
   "execution_count": 5,
   "metadata": {},
   "outputs": [],
   "source": [
    "space = {\n",
    "  'preprocessing': {\n",
    "    'remove_tags': hp.choice('remove_tags', [True, False]),\n",
    "    'tokenize': hp.choice('tokenize', [True, False]),\n",
    "    'remove_stopwords': hp.choice('remove_stopwords', [True, False]),\n",
    "    'lemmatize': hp.choice('lemmatize', [True, False]),\n",
    "  },\n",
    "  'batch_size': hp.choice('batch_size', [32]),\n",
    "  'epochs': hp.choice('epochs', [1]),\n",
    "}"
   ]
  },
  {
   "cell_type": "code",
   "execution_count": 6,
   "metadata": {},
   "outputs": [],
   "source": [
    "FULL=False\n",
    "MODEL = 'distilbert-base-uncased' # 'cardiffnlp/twitter-roberta-base-sentiment-latest'\n",
    "TOKENIZER = 'bert-base-uncased'"
   ]
  },
  {
   "cell_type": "code",
   "execution_count": 7,
   "metadata": {},
   "outputs": [
    {
     "name": "stdout",
     "output_type": "stream",
     "text": [
      "{'batch_size': 32, 'epochs': 1, 'preprocessing': {'lemmatize': False, 'remove_stopwords': False, 'remove_tags': True, 'tokenize': False}}\n",
      "  0%|          | 0/16 [00:00<?, ?trial/s, best loss=?]"
     ]
    },
    {
     "name": "stderr",
     "output_type": "stream",
     "text": [
      "Casting the dataset:   0%|          | 0/16 [00:00<?, ?ba/s]\n",
      "Casting the dataset:  12%|#2        | 2/16 [00:00<00:00, 17.99ba/s]\n",
      "Casting the dataset:  25%|##5       | 4/16 [00:00<00:00, 16.29ba/s]\n",
      "Casting the dataset:  50%|#####     | 8/16 [00:00<00:00, 25.23ba/s]\n",
      "Casting the dataset:  75%|#######5  | 12/16 [00:00<00:00, 29.37ba/s]\n",
      "Casting the dataset: 100%|##########| 16/16 [00:00<00:00, 31.38ba/s]\n",
      "Casting the dataset: 100%|##########| 16/16 [00:00<00:00, 27.72ba/s]\n",
      "Casting the dataset:   0%|          | 0/4 [00:00<?, ?ba/s]\n",
      "Casting the dataset:  75%|#######5  | 3/4 [00:00<00:00, 28.46ba/s]\n",
      "Casting the dataset: 100%|##########| 4/4 [00:00<00:00, 26.84ba/s]\n",
      "Parameter 'function'=<function tokenize.<locals>.tokenize_function at 0x7fbc77ca9670> of the transform datasets.arrow_dataset.Dataset._map_single couldn't be hashed properly, a random hash was used instead. Make sure your transforms and parameters are serializable with pickle or dill for the dataset fingerprinting and caching to work. If you reuse this transform, the caching mechanism will consider it to be different from the previous calls and recompute everything. This warning is only showed once. Subsequent hashing failures won't be showed.\n",
      "\n",
      "  0%|          | 0/160 [00:00<?, ?ba/s]\n",
      "  1%|          | 1/160 [00:00<00:15,  9.96ba/s]\n",
      "  2%|1         | 3/160 [00:00<00:15, 10.06ba/s]\n",
      "  3%|3         | 5/160 [00:00<00:14, 10.88ba/s]\n",
      "  4%|4         | 7/160 [00:00<00:12, 12.23ba/s]\n",
      "  6%|5         | 9/160 [00:00<00:11, 13.32ba/s]\n",
      "  7%|6         | 11/160 [00:00<00:11, 13.34ba/s]\n",
      "  8%|8         | 13/160 [00:01<00:15,  9.42ba/s]\n",
      "  9%|9         | 15/160 [00:01<00:14,  9.88ba/s]\n",
      " 11%|#         | 17/160 [00:01<00:13, 10.76ba/s]\n",
      " 12%|#1        | 19/160 [00:01<00:12, 11.47ba/s]\n",
      " 13%|#3        | 21/160 [00:01<00:11, 11.90ba/s]\n",
      " 14%|#4        | 23/160 [00:02<00:11, 12.14ba/s]\n",
      " 16%|#5        | 25/160 [00:02<00:10, 12.58ba/s]\n",
      " 17%|#6        | 27/160 [00:02<00:10, 12.11ba/s]\n",
      " 18%|#8        | 29/160 [00:02<00:10, 12.21ba/s]\n",
      " 19%|#9        | 31/160 [00:02<00:12, 10.50ba/s]\n",
      " 21%|##        | 33/160 [00:03<00:15,  8.30ba/s]\n",
      " 22%|##1       | 35/160 [00:03<00:14,  8.80ba/s]\n",
      " 23%|##3       | 37/160 [00:03<00:12,  9.69ba/s]\n",
      " 24%|##4       | 39/160 [00:03<00:11, 10.45ba/s]\n",
      " 26%|##5       | 41/160 [00:03<00:10, 11.77ba/s]\n",
      " 27%|##6       | 43/160 [00:03<00:09, 12.79ba/s]\n",
      " 28%|##8       | 45/160 [00:04<00:09, 12.73ba/s]\n",
      " 29%|##9       | 47/160 [00:04<00:08, 13.07ba/s]\n",
      " 31%|###       | 49/160 [00:04<00:08, 12.58ba/s]\n",
      " 32%|###1      | 51/160 [00:04<00:09, 11.36ba/s]\n",
      " 33%|###3      | 53/160 [00:04<00:08, 11.98ba/s]\n",
      " 34%|###4      | 55/160 [00:04<00:08, 12.81ba/s]\n",
      " 36%|###5      | 57/160 [00:04<00:07, 13.18ba/s]\n",
      " 37%|###6      | 59/160 [00:05<00:07, 13.64ba/s]\n",
      " 38%|###8      | 61/160 [00:05<00:06, 14.25ba/s]\n",
      " 39%|###9      | 63/160 [00:05<00:06, 14.00ba/s]\n",
      " 41%|####      | 65/160 [00:05<00:07, 13.44ba/s]\n",
      " 42%|####1     | 67/160 [00:05<00:07, 12.92ba/s]\n",
      " 43%|####3     | 69/160 [00:05<00:08, 10.39ba/s]\n",
      " 44%|####4     | 71/160 [00:06<00:08, 10.97ba/s]\n",
      " 46%|####5     | 73/160 [00:06<00:09,  9.19ba/s]\n",
      " 47%|####6     | 75/160 [00:06<00:08,  9.56ba/s]\n",
      " 48%|####8     | 77/160 [00:06<00:08,  9.42ba/s]\n",
      " 49%|####8     | 78/160 [00:06<00:08,  9.26ba/s]\n",
      " 49%|####9     | 79/160 [00:07<00:08,  9.19ba/s]\n",
      " 50%|#####     | 80/160 [00:07<00:08,  9.21ba/s]\n",
      " 51%|#####     | 81/160 [00:07<00:09,  8.63ba/s]\n",
      " 51%|#####1    | 82/160 [00:07<00:09,  8.14ba/s]\n",
      " 52%|#####1    | 83/160 [00:07<00:10,  7.47ba/s]\n",
      " 52%|#####2    | 84/160 [00:07<00:10,  7.25ba/s]\n",
      " 53%|#####3    | 85/160 [00:08<00:14,  5.23ba/s]\n",
      " 54%|#####3    | 86/160 [00:08<00:12,  5.76ba/s]\n",
      " 54%|#####4    | 87/160 [00:08<00:13,  5.43ba/s]\n",
      " 55%|#####5    | 88/160 [00:08<00:12,  5.67ba/s]\n",
      " 56%|#####5    | 89/160 [00:08<00:11,  6.16ba/s]\n",
      " 56%|#####6    | 90/160 [00:08<00:11,  6.30ba/s]\n",
      " 57%|#####6    | 91/160 [00:09<00:11,  6.12ba/s]\n",
      " 57%|#####7    | 92/160 [00:09<00:11,  5.84ba/s]\n",
      " 58%|#####8    | 93/160 [00:09<00:11,  5.67ba/s]\n",
      " 59%|#####8    | 94/160 [00:09<00:10,  6.09ba/s]\n",
      " 59%|#####9    | 95/160 [00:09<00:10,  6.08ba/s]\n",
      " 60%|######    | 96/160 [00:09<00:10,  6.28ba/s]\n",
      " 61%|######    | 97/160 [00:10<00:09,  6.37ba/s]\n",
      " 61%|######1   | 98/160 [00:10<00:09,  6.25ba/s]\n",
      " 62%|######1   | 99/160 [00:10<00:10,  5.82ba/s]\n",
      " 62%|######2   | 100/160 [00:10<00:10,  5.98ba/s]\n",
      " 63%|######3   | 101/160 [00:10<00:09,  6.07ba/s]\n",
      " 64%|######3   | 102/160 [00:10<00:09,  6.37ba/s]\n",
      " 64%|######4   | 103/160 [00:11<00:08,  6.45ba/s]\n",
      " 65%|######5   | 104/160 [00:11<00:12,  4.57ba/s]\n",
      " 66%|######5   | 105/160 [00:11<00:10,  5.01ba/s]\n",
      " 66%|######6   | 106/160 [00:11<00:10,  5.23ba/s]\n",
      " 67%|######6   | 107/160 [00:11<00:09,  5.69ba/s]\n",
      " 68%|######7   | 108/160 [00:11<00:08,  5.96ba/s]\n",
      " 68%|######8   | 109/160 [00:12<00:08,  6.19ba/s]\n",
      " 69%|######8   | 110/160 [00:12<00:08,  6.12ba/s]\n",
      " 69%|######9   | 111/160 [00:12<00:08,  5.96ba/s]\n",
      " 70%|#######   | 112/160 [00:12<00:07,  6.01ba/s]\n",
      " 71%|#######   | 113/160 [00:12<00:08,  5.79ba/s]\n",
      " 71%|#######1  | 114/160 [00:12<00:07,  6.20ba/s]\n",
      " 72%|#######1  | 115/160 [00:13<00:07,  6.22ba/s]\n",
      " 72%|#######2  | 116/160 [00:13<00:08,  5.23ba/s]\n",
      " 73%|#######3  | 117/160 [00:13<00:08,  5.28ba/s]\n",
      " 74%|#######3  | 118/160 [00:13<00:07,  5.53ba/s]\n",
      " 74%|#######4  | 119/160 [00:13<00:06,  5.95ba/s]\n",
      " 75%|#######5  | 120/160 [00:14<00:07,  5.26ba/s]\n",
      " 76%|#######6  | 122/160 [00:14<00:05,  6.89ba/s]\n",
      " 78%|#######7  | 124/160 [00:14<00:04,  7.87ba/s]\n",
      " 79%|#######8  | 126/160 [00:14<00:03,  8.90ba/s]\n",
      " 79%|#######9  | 127/160 [00:14<00:03,  9.10ba/s]\n",
      " 80%|########  | 128/160 [00:14<00:03,  8.93ba/s]\n",
      " 81%|########  | 129/160 [00:15<00:03,  8.52ba/s]\n",
      " 81%|########1 | 130/160 [00:15<00:03,  8.68ba/s]\n",
      " 82%|########1 | 131/160 [00:15<00:03,  8.18ba/s]\n",
      " 82%|########2 | 132/160 [00:15<00:03,  8.09ba/s]\n",
      " 83%|########3 | 133/160 [00:15<00:03,  8.25ba/s]\n",
      " 84%|########4 | 135/160 [00:15<00:02,  9.29ba/s]\n",
      " 85%|########5 | 136/160 [00:15<00:02,  9.32ba/s]\n",
      " 86%|########5 | 137/160 [00:15<00:02,  8.92ba/s]\n",
      " 86%|########6 | 138/160 [00:16<00:02,  8.86ba/s]\n",
      " 87%|########6 | 139/160 [00:16<00:03,  6.57ba/s]\n",
      " 88%|########8 | 141/160 [00:16<00:02,  8.07ba/s]\n",
      " 89%|########9 | 143/160 [00:16<00:01,  9.14ba/s]\n",
      " 90%|######### | 144/160 [00:16<00:01,  9.19ba/s]\n",
      " 91%|######### | 145/160 [00:16<00:01,  8.85ba/s]\n",
      " 91%|#########1| 146/160 [00:17<00:01,  8.23ba/s]\n",
      " 92%|#########1| 147/160 [00:17<00:01,  7.40ba/s]\n",
      " 92%|#########2| 148/160 [00:17<00:01,  7.41ba/s]\n",
      " 93%|#########3| 149/160 [00:17<00:01,  7.66ba/s]\n",
      " 94%|#########3| 150/160 [00:17<00:01,  7.42ba/s]\n",
      " 94%|#########4| 151/160 [00:17<00:01,  7.65ba/s]\n",
      " 95%|#########5| 152/160 [00:17<00:00,  8.05ba/s]\n",
      " 96%|#########5| 153/160 [00:18<00:00,  7.47ba/s]\n",
      " 97%|#########6| 155/160 [00:18<00:00,  6.76ba/s]\n",
      " 98%|#########8| 157/160 [00:18<00:00,  8.18ba/s]\n",
      " 99%|#########9| 159/160 [00:18<00:00,  8.92ba/s]\n",
      "100%|##########| 160/160 [00:18<00:00,  9.12ba/s]\n",
      "100%|##########| 160/160 [00:18<00:00,  8.52ba/s]\n",
      "  0%|          | 0/40 [00:00<?, ?ba/s]\n",
      "  5%|5         | 2/40 [00:00<00:03, 11.09ba/s]\n",
      " 10%|#         | 4/40 [00:00<00:03, 10.28ba/s]\n",
      " 15%|#5        | 6/40 [00:00<00:03, 10.56ba/s]\n",
      " 20%|##        | 8/40 [00:00<00:02, 10.73ba/s]\n",
      " 25%|##5       | 10/40 [00:00<00:02, 10.91ba/s]\n",
      " 30%|###       | 12/40 [00:01<00:03,  9.24ba/s]\n",
      " 32%|###2      | 13/40 [00:01<00:03,  8.62ba/s]\n",
      " 35%|###5      | 14/40 [00:01<00:03,  6.97ba/s]\n",
      " 38%|###7      | 15/40 [00:01<00:03,  7.42ba/s]\n",
      " 40%|####      | 16/40 [00:01<00:03,  7.73ba/s]\n",
      " 42%|####2     | 17/40 [00:01<00:02,  8.02ba/s]\n",
      " 48%|####7     | 19/40 [00:02<00:02,  9.21ba/s]\n",
      " 52%|#####2    | 21/40 [00:02<00:01,  9.57ba/s]\n",
      " 55%|#####5    | 22/40 [00:02<00:01,  9.60ba/s]\n",
      " 57%|#####7    | 23/40 [00:02<00:01,  9.46ba/s]\n",
      " 60%|######    | 24/40 [00:02<00:01,  8.92ba/s]\n",
      " 62%|######2   | 25/40 [00:02<00:01,  8.31ba/s]\n",
      " 65%|######5   | 26/40 [00:02<00:01,  7.74ba/s]\n",
      " 68%|######7   | 27/40 [00:03<00:01,  7.54ba/s]\n",
      " 70%|#######   | 28/40 [00:03<00:01,  6.99ba/s]\n",
      " 72%|#######2  | 29/40 [00:03<00:01,  6.40ba/s]\n",
      " 75%|#######5  | 30/40 [00:03<00:02,  3.87ba/s]\n",
      " 78%|#######7  | 31/40 [00:04<00:02,  4.10ba/s]\n",
      " 80%|########  | 32/40 [00:04<00:02,  3.99ba/s]\n",
      " 82%|########2 | 33/40 [00:04<00:01,  4.17ba/s]\n",
      " 85%|########5 | 34/40 [00:04<00:01,  4.41ba/s]\n",
      " 88%|########7 | 35/40 [00:05<00:01,  4.43ba/s]\n",
      " 90%|######### | 36/40 [00:05<00:00,  4.69ba/s]\n",
      " 92%|#########2| 37/40 [00:05<00:00,  5.00ba/s]\n",
      " 95%|#########5| 38/40 [00:05<00:00,  5.13ba/s]\n",
      " 98%|#########7| 39/40 [00:05<00:00,  5.30ba/s]\n",
      "100%|##########| 40/40 [00:05<00:00,  5.58ba/s]\n",
      "100%|##########| 40/40 [00:05<00:00,  6.75ba/s]\n",
      "The following columns in the training set don't have a corresponding argument in `DistilBertForSequenceClassification.forward` and have been ignored: text, __index_level_0__, index, token_type_ids. If text, __index_level_0__, index, token_type_ids are not expected by `DistilBertForSequenceClassification.forward`,  you can safely ignore this message.\n",
      "/home/jonhue/projects/jonhue/twitter-sentiment-classification/venv/lib/python3.8/site-packages/transformers/optimization.py:306: FutureWarning: This implementation of AdamW is deprecated and will be removed in a future version. Use the PyTorch implementation torch.optim.AdamW instead, or set `no_deprecation_warning=True` to disable this warning\n",
      "  warnings.warn(\n",
      "\n",
      "***** Running training *****\n",
      "  Num examples = 160000\n",
      "  Num Epochs = 1\n",
      "  Instantaneous batch size per device = 32\n",
      "  Total train batch size (w. parallel, distributed & accumulation) = 32\n",
      "  Gradient Accumulation steps = 1\n",
      "  Total optimization steps = 5000\n"
     ]
    },
    {
     "data": {
      "text/html": [
       "\n",
       "    <div>\n",
       "      \n",
       "      <progress value='418' max='5000' style='width:300px; height:20px; vertical-align: middle;'></progress>\n",
       "      [ 418/5000 01:15 < 13:52, 5.50 it/s, Epoch 0.08/1]\n",
       "    </div>\n",
       "    <table border=\"1\" class=\"dataframe\">\n",
       "  <thead>\n",
       " <tr style=\"text-align: left;\">\n",
       "      <th>Epoch</th>\n",
       "      <th>Training Loss</th>\n",
       "      <th>Validation Loss</th>\n",
       "    </tr>\n",
       "  </thead>\n",
       "  <tbody>\n",
       "  </tbody>\n",
       "</table><p>"
      ],
      "text/plain": [
       "<IPython.core.display.HTML object>"
      ]
     },
     "metadata": {},
     "output_type": "display_data"
    }
   ],
   "source": [
    "fmin_objective = partial(objective, model_name=MODEL, tokenizer_name=TOKENIZER, device=device, full=FULL)\n",
    "best = fmin(fmin_objective, space, algo=tpe.suggest, max_evals=16)"
   ]
  },
  {
   "cell_type": "code",
   "execution_count": null,
   "metadata": {},
   "outputs": [
    {
     "ename": "NameError",
     "evalue": "name 'best' is not defined",
     "output_type": "error",
     "traceback": [
      "\u001b[0;31m---------------------------------------------------------------------------\u001b[0m",
      "\u001b[0;31mNameError\u001b[0m                                 Traceback (most recent call last)",
      "\u001b[1;32m/home/jonhue/projects/jonhue/twitter-sentiment-classification/bert_preprocessing.ipynb Cell 8\u001b[0m in \u001b[0;36m<cell line: 1>\u001b[0;34m()\u001b[0m\n\u001b[0;32m----> <a href='vscode-notebook-cell://wsl%2Bubuntu/home/jonhue/projects/jonhue/twitter-sentiment-classification/bert_preprocessing.ipynb#ch0000007vscode-remote?line=0'>1</a>\u001b[0m best\n",
      "\u001b[0;31mNameError\u001b[0m: name 'best' is not defined"
     ]
    }
   ],
   "source": [
    "best"
   ]
  },
  {
   "cell_type": "code",
   "execution_count": null,
   "metadata": {},
   "outputs": [],
   "source": []
  }
 ],
 "metadata": {
  "kernelspec": {
   "display_name": "Python 3.9.13 ('venv': venv)",
   "language": "python",
   "name": "python3"
  },
  "language_info": {
   "codemirror_mode": {
    "name": "ipython",
    "version": 3
   },
   "file_extension": ".py",
   "mimetype": "text/x-python",
   "name": "python",
   "nbconvert_exporter": "python",
   "pygments_lexer": "ipython3",
   "version": "3.9.13"
  },
  "orig_nbformat": 4,
  "vscode": {
   "interpreter": {
    "hash": "60c0dbeaf21558ddf50266f36cb8b3959a1efdbf8c1538f21831715a494e0c8d"
   }
  }
 },
 "nbformat": 4,
 "nbformat_minor": 2
}
