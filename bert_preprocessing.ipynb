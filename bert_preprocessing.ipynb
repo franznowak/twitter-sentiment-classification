{
 "cells": [
  {
   "cell_type": "code",
   "execution_count": 1,
   "metadata": {},
   "outputs": [
    {
     "name": "stderr",
     "output_type": "stream",
     "text": [
      "/Users/jonas/Projects/others/twitter-sentiment-classification/venv/lib/python3.9/site-packages/tqdm/auto.py:22: TqdmWarning: IProgress not found. Please update jupyter and ipywidgets. See https://ipywidgets.readthedocs.io/en/stable/user_install.html\n",
      "  from .autonotebook import tqdm as notebook_tqdm\n"
     ]
    }
   ],
   "source": [
    "import logging\n",
    "import torch\n",
    "from hyperopt import hp, fmin, tpe\n",
    "from functools import partial"
   ]
  },
  {
   "cell_type": "code",
   "execution_count": 2,
   "metadata": {},
   "outputs": [
    {
     "name": "stderr",
     "output_type": "stream",
     "text": [
      "[nltk_data] Downloading package stopwords to /Users/jonas/nltk_data...\n",
      "[nltk_data]   Package stopwords is already up-to-date!\n",
      "[nltk_data] Downloading package wordnet to /Users/jonas/nltk_data...\n",
      "[nltk_data]   Package wordnet is already up-to-date!\n"
     ]
    }
   ],
   "source": [
    "from bert import objective"
   ]
  },
  {
   "cell_type": "code",
   "execution_count": 3,
   "metadata": {},
   "outputs": [],
   "source": [
    "logging.basicConfig(level=logging.INFO)"
   ]
  },
  {
   "cell_type": "code",
   "execution_count": 4,
   "metadata": {},
   "outputs": [
    {
     "data": {
      "text/plain": [
       "'cpu'"
      ]
     },
     "execution_count": 4,
     "metadata": {},
     "output_type": "execute_result"
    }
   ],
   "source": [
    "device = 'cuda' if torch.cuda.is_available() else 'cpu'\n",
    "device"
   ]
  },
  {
   "cell_type": "code",
   "execution_count": 5,
   "metadata": {},
   "outputs": [],
   "source": [
    "space = {\n",
    "  'preprocessing': {\n",
    "    'remove_tags': hp.choice('remove_tags', [True, False]),\n",
    "    'tokenize': hp.choice('tokenize', [True, False]),\n",
    "    'remove_stopwords': hp.choice('remove_stopwords', [True, False]),\n",
    "    'lemmatize': hp.choice('lemmatize', [True, False]),\n",
    "  },\n",
    "  'batch_size': hp.choice('batch_size', [32]),\n",
    "  'epochs': hp.choice('epochs', [1]),\n",
    "}"
   ]
  },
  {
   "cell_type": "code",
   "execution_count": 6,
   "metadata": {},
   "outputs": [],
   "source": [
    "FULL=False\n",
    "MODEL = 'distilbert-base-uncased' # 'cardiffnlp/twitter-roberta-base-sentiment-latest'\n",
    "TOKENIZER = 'bert-base-uncased'"
   ]
  },
  {
   "cell_type": "code",
   "execution_count": 8,
   "metadata": {},
   "outputs": [
    {
     "name": "stdout",
     "output_type": "stream",
     "text": [
      "================================================================================\n",
      "ERROR in rec_eval                                                      \n",
      "EXCEPTION                                                              \n",
      "<class 'AttributeError'>                                               \n",
      "'numpy.random.mtrand.RandomState' object has no attribute 'integers'   \n",
      "NODE                                                                   \n",
      "0 randint                                                              \n",
      "1   Literal{2}\n",
      "2  size =\n",
      "3   len\n",
      "4     array_union\n",
      "5       array_union\n",
      "6         array_union\n",
      "7           array_union\n",
      "8             Literal{new_ids}\n",
      "9  rng =\n",
      "10   Literal{rng-placeholder}\n",
      "================================================================================\n",
      "  0%|          | 0/9223372036854775807 [00:00<?, ?trial/s, best loss=?]\n"
     ]
    },
    {
     "ename": "AttributeError",
     "evalue": "'numpy.random.mtrand.RandomState' object has no attribute 'integers'",
     "output_type": "error",
     "traceback": [
      "\u001b[0;31m---------------------------------------------------------------------------\u001b[0m",
      "\u001b[0;31mAttributeError\u001b[0m                            Traceback (most recent call last)",
      "\u001b[1;32m/Users/jonas/Projects/others/twitter-sentiment-classification/bert_preprocessing.ipynb Cell 7\u001b[0m in \u001b[0;36m<cell line: 2>\u001b[0;34m()\u001b[0m\n\u001b[1;32m      <a href='vscode-notebook-cell:/Users/jonas/Projects/others/twitter-sentiment-classification/bert_preprocessing.ipynb#ch0000003?line=0'>1</a>\u001b[0m fmin_objective \u001b[39m=\u001b[39m partial(objective, model_name\u001b[39m=\u001b[39mMODEL, tokenizer_name\u001b[39m=\u001b[39mTOKENIZER, device\u001b[39m=\u001b[39mdevice, full\u001b[39m=\u001b[39mFULL)\n\u001b[0;32m----> <a href='vscode-notebook-cell:/Users/jonas/Projects/others/twitter-sentiment-classification/bert_preprocessing.ipynb#ch0000003?line=1'>2</a>\u001b[0m best \u001b[39m=\u001b[39m fmin(fmin_objective, space, algo\u001b[39m=\u001b[39;49mpartial(suggest, nbMaxSucessiveFailures\u001b[39m=\u001b[39;49m\u001b[39m1000\u001b[39;49m))\n",
      "File \u001b[0;32m~/Projects/others/twitter-sentiment-classification/venv/lib/python3.9/site-packages/hyperopt/fmin.py:586\u001b[0m, in \u001b[0;36mfmin\u001b[0;34m(fn, space, algo, max_evals, timeout, loss_threshold, trials, rstate, allow_trials_fmin, pass_expr_memo_ctrl, catch_eval_exceptions, verbose, return_argmin, points_to_evaluate, max_queue_len, show_progressbar, early_stop_fn, trials_save_file)\u001b[0m\n\u001b[1;32m    583\u001b[0m rval\u001b[39m.\u001b[39mcatch_eval_exceptions \u001b[39m=\u001b[39m catch_eval_exceptions\n\u001b[1;32m    585\u001b[0m \u001b[39m# next line is where the fmin is actually executed\u001b[39;00m\n\u001b[0;32m--> 586\u001b[0m rval\u001b[39m.\u001b[39;49mexhaust()\n\u001b[1;32m    588\u001b[0m \u001b[39mif\u001b[39;00m return_argmin:\n\u001b[1;32m    589\u001b[0m     \u001b[39mif\u001b[39;00m \u001b[39mlen\u001b[39m(trials\u001b[39m.\u001b[39mtrials) \u001b[39m==\u001b[39m \u001b[39m0\u001b[39m:\n",
      "File \u001b[0;32m~/Projects/others/twitter-sentiment-classification/venv/lib/python3.9/site-packages/hyperopt/fmin.py:364\u001b[0m, in \u001b[0;36mFMinIter.exhaust\u001b[0;34m(self)\u001b[0m\n\u001b[1;32m    362\u001b[0m \u001b[39mdef\u001b[39;00m \u001b[39mexhaust\u001b[39m(\u001b[39mself\u001b[39m):\n\u001b[1;32m    363\u001b[0m     n_done \u001b[39m=\u001b[39m \u001b[39mlen\u001b[39m(\u001b[39mself\u001b[39m\u001b[39m.\u001b[39mtrials)\n\u001b[0;32m--> 364\u001b[0m     \u001b[39mself\u001b[39;49m\u001b[39m.\u001b[39;49mrun(\u001b[39mself\u001b[39;49m\u001b[39m.\u001b[39;49mmax_evals \u001b[39m-\u001b[39;49m n_done, block_until_done\u001b[39m=\u001b[39;49m\u001b[39mself\u001b[39;49m\u001b[39m.\u001b[39;49masynchronous)\n\u001b[1;32m    365\u001b[0m     \u001b[39mself\u001b[39m\u001b[39m.\u001b[39mtrials\u001b[39m.\u001b[39mrefresh()\n\u001b[1;32m    366\u001b[0m     \u001b[39mreturn\u001b[39;00m \u001b[39mself\u001b[39m\n",
      "File \u001b[0;32m~/Projects/others/twitter-sentiment-classification/venv/lib/python3.9/site-packages/hyperopt/fmin.py:278\u001b[0m, in \u001b[0;36mFMinIter.run\u001b[0;34m(self, N, block_until_done)\u001b[0m\n\u001b[1;32m    273\u001b[0m \u001b[39mself\u001b[39m\u001b[39m.\u001b[39mtrials\u001b[39m.\u001b[39mrefresh()\n\u001b[1;32m    274\u001b[0m \u001b[39m# Based on existing trials and the domain, use `algo` to probe in\u001b[39;00m\n\u001b[1;32m    275\u001b[0m \u001b[39m# new hp points. Save the results of those inspections into\u001b[39;00m\n\u001b[1;32m    276\u001b[0m \u001b[39m# `new_trials`. This is the core of `run`, all the rest is just\u001b[39;00m\n\u001b[1;32m    277\u001b[0m \u001b[39m# processes orchestration\u001b[39;00m\n\u001b[0;32m--> 278\u001b[0m new_trials \u001b[39m=\u001b[39m algo(\n\u001b[1;32m    279\u001b[0m     new_ids, \u001b[39mself\u001b[39;49m\u001b[39m.\u001b[39;49mdomain, trials, \u001b[39mself\u001b[39;49m\u001b[39m.\u001b[39;49mrstate\u001b[39m.\u001b[39;49mintegers(\u001b[39m2\u001b[39;49m \u001b[39m*\u001b[39;49m\u001b[39m*\u001b[39;49m \u001b[39m31\u001b[39;49m \u001b[39m-\u001b[39;49m \u001b[39m1\u001b[39;49m)\n\u001b[1;32m    280\u001b[0m )\n\u001b[1;32m    281\u001b[0m \u001b[39massert\u001b[39;00m \u001b[39mlen\u001b[39m(new_ids) \u001b[39m>\u001b[39m\u001b[39m=\u001b[39m \u001b[39mlen\u001b[39m(new_trials)\n\u001b[1;32m    283\u001b[0m \u001b[39mif\u001b[39;00m \u001b[39mlen\u001b[39m(new_trials):\n",
      "File \u001b[0;32m~/Projects/others/twitter-sentiment-classification/bert/hyperopt.py:33\u001b[0m, in \u001b[0;36msuggest\u001b[0;34m(new_ids, domain, trials, seed, nbMaxSucessiveFailures)\u001b[0m\n\u001b[1;32m     30\u001b[0m nbSucessiveFailures \u001b[39m=\u001b[39m \u001b[39m0\u001b[39m\n\u001b[1;32m     31\u001b[0m \u001b[39mwhile\u001b[39;00m \u001b[39mnot\u001b[39;00m newSample:\n\u001b[1;32m     32\u001b[0m   \u001b[39m# -- sample new specs, idxs, vals\u001b[39;00m\n\u001b[0;32m---> 33\u001b[0m   idxs, vals \u001b[39m=\u001b[39m pyll\u001b[39m.\u001b[39;49mrec_eval(\n\u001b[1;32m     34\u001b[0m     domain\u001b[39m.\u001b[39;49ms_idxs_vals,\n\u001b[1;32m     35\u001b[0m     memo\u001b[39m=\u001b[39;49m{\n\u001b[1;32m     36\u001b[0m       domain\u001b[39m.\u001b[39;49ms_new_ids: [new_id],\n\u001b[1;32m     37\u001b[0m       domain\u001b[39m.\u001b[39;49ms_rng: rng,\n\u001b[1;32m     38\u001b[0m     })\n\u001b[1;32m     39\u001b[0m   new_result \u001b[39m=\u001b[39m domain\u001b[39m.\u001b[39mnew_result()\n\u001b[1;32m     40\u001b[0m   new_misc \u001b[39m=\u001b[39m \u001b[39mdict\u001b[39m(tid\u001b[39m=\u001b[39mnew_id, cmd\u001b[39m=\u001b[39mdomain\u001b[39m.\u001b[39mcmd, workdir\u001b[39m=\u001b[39mdomain\u001b[39m.\u001b[39mworkdir)\n",
      "File \u001b[0;32m~/Projects/others/twitter-sentiment-classification/venv/lib/python3.9/site-packages/hyperopt/pyll/base.py:902\u001b[0m, in \u001b[0;36mrec_eval\u001b[0;34m(expr, deepcopy_inputs, memo, max_program_len, memo_gc, print_trace, print_node_on_error)\u001b[0m\n\u001b[1;32m    899\u001b[0m     kwargs \u001b[39m=\u001b[39m copy\u001b[39m.\u001b[39mdeepcopy(_kwargs)\n\u001b[1;32m    901\u001b[0m \u001b[39mtry\u001b[39;00m:\n\u001b[0;32m--> 902\u001b[0m     rval \u001b[39m=\u001b[39m scope\u001b[39m.\u001b[39;49m_impls[node\u001b[39m.\u001b[39;49mname](\u001b[39m*\u001b[39;49margs, \u001b[39m*\u001b[39;49m\u001b[39m*\u001b[39;49mkwargs)\n\u001b[1;32m    904\u001b[0m \u001b[39mexcept\u001b[39;00m \u001b[39mException\u001b[39;00m \u001b[39mas\u001b[39;00m e:\n\u001b[1;32m    905\u001b[0m     \u001b[39mif\u001b[39;00m print_node_on_error:\n",
      "File \u001b[0;32m~/Projects/others/twitter-sentiment-classification/venv/lib/python3.9/site-packages/hyperopt/pyll/stochastic.py:100\u001b[0m, in \u001b[0;36mrandint\u001b[0;34m(low, high, rng, size)\u001b[0m\n\u001b[1;32m     93\u001b[0m \u001b[39m@implicit_stochastic\u001b[39m\n\u001b[1;32m     94\u001b[0m \u001b[39m@scope\u001b[39m\u001b[39m.\u001b[39mdefine\n\u001b[1;32m     95\u001b[0m \u001b[39mdef\u001b[39;00m \u001b[39mrandint\u001b[39m(low, high\u001b[39m=\u001b[39m\u001b[39mNone\u001b[39;00m, rng\u001b[39m=\u001b[39m\u001b[39mNone\u001b[39;00m, size\u001b[39m=\u001b[39m()):\n\u001b[1;32m     96\u001b[0m     \u001b[39m\"\"\"\u001b[39;00m\n\u001b[1;32m     97\u001b[0m \u001b[39m    See np.random.randint documentation.\u001b[39;00m\n\u001b[1;32m     98\u001b[0m \u001b[39m    rng = random number generator, typically equals np.random.Generator\u001b[39;00m\n\u001b[1;32m     99\u001b[0m \u001b[39m    \"\"\"\u001b[39;00m\n\u001b[0;32m--> 100\u001b[0m     \u001b[39mreturn\u001b[39;00m rng\u001b[39m.\u001b[39;49mintegers(low, high, size)\n",
      "\u001b[0;31mAttributeError\u001b[0m: 'numpy.random.mtrand.RandomState' object has no attribute 'integers'"
     ]
    }
   ],
   "source": [
    "fmin_objective = partial(objective, model_name=MODEL, tokenizer_name=TOKENIZER, device=device, full=FULL)\n",
    "best = fmin(fmin_objective, space, algo=tpe.suggest, max_evals=16)"
   ]
  },
  {
   "cell_type": "code",
   "execution_count": null,
   "metadata": {},
   "outputs": [
    {
     "data": {
      "text/plain": [
       "{'batch_size': 0,\n",
       " 'epochs': 0,\n",
       " 'lemmatize': 0,\n",
       " 'remove_stopwords': 0,\n",
       " 'remove_tags': 0,\n",
       " 'tokenize': 1}"
      ]
     },
     "execution_count": 8,
     "metadata": {},
     "output_type": "execute_result"
    }
   ],
   "source": [
    "best"
   ]
  },
  {
   "cell_type": "code",
   "execution_count": null,
   "metadata": {},
   "outputs": [],
   "source": []
  }
 ],
 "metadata": {
  "kernelspec": {
   "display_name": "Python 3.9.13 ('venv': venv)",
   "language": "python",
   "name": "python3"
  },
  "language_info": {
   "codemirror_mode": {
    "name": "ipython",
    "version": 3
   },
   "file_extension": ".py",
   "mimetype": "text/x-python",
   "name": "python",
   "nbconvert_exporter": "python",
   "pygments_lexer": "ipython3",
   "version": "3.9.13"
  },
  "orig_nbformat": 4,
  "vscode": {
   "interpreter": {
    "hash": "60c0dbeaf21558ddf50266f36cb8b3959a1efdbf8c1538f21831715a494e0c8d"
   }
  }
 },
 "nbformat": 4,
 "nbformat_minor": 2
}
