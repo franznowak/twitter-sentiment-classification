{
 "cells": [
  {
   "cell_type": "code",
   "execution_count": 1,
   "metadata": {},
   "outputs": [
    {
     "name": "stderr",
     "output_type": "stream",
     "text": [
      "/Users/jonas/Projects/others/twitter-sentiment-classification/venv/lib/python3.9/site-packages/tqdm/auto.py:22: TqdmWarning: IProgress not found. Please update jupyter and ipywidgets. See https://ipywidgets.readthedocs.io/en/stable/user_install.html\n",
      "  from .autonotebook import tqdm as notebook_tqdm\n"
     ]
    }
   ],
   "source": [
    "import logging\n",
    "import torch\n",
    "from hyperopt import hp, fmin, tpe\n",
    "from functools import partial"
   ]
  },
  {
   "cell_type": "code",
   "execution_count": 2,
   "metadata": {},
   "outputs": [
    {
     "name": "stderr",
     "output_type": "stream",
     "text": [
      "[nltk_data] Downloading package stopwords to /Users/jonas/nltk_data...\n",
      "[nltk_data]   Package stopwords is already up-to-date!\n",
      "[nltk_data] Downloading package wordnet to /Users/jonas/nltk_data...\n",
      "[nltk_data]   Package wordnet is already up-to-date!\n"
     ]
    }
   ],
   "source": [
    "from bert import objective"
   ]
  },
  {
   "cell_type": "code",
   "execution_count": 3,
   "metadata": {},
   "outputs": [],
   "source": [
    "# logging.basicConfig(level=logging.INFO)"
   ]
  },
  {
   "cell_type": "code",
   "execution_count": 4,
   "metadata": {},
   "outputs": [
    {
     "data": {
      "text/plain": [
       "'cpu'"
      ]
     },
     "execution_count": 4,
     "metadata": {},
     "output_type": "execute_result"
    }
   ],
   "source": [
    "device = 'cuda' if torch.cuda.is_available() else 'cpu'\n",
    "device"
   ]
  },
  {
   "cell_type": "code",
   "execution_count": 5,
   "metadata": {},
   "outputs": [],
   "source": [
    "space = {\n",
    "  'preprocessing': {\n",
    "    'remove_tags': hp.choice('remove_tags', [True, False]),\n",
    "    'tokenize': hp.choice('tokenize', [True, False]),\n",
    "    'remove_stopwords': hp.choice('remove_stopwords', [True, False]),\n",
    "    'lemmatize': hp.choice('lemmatize', [True, False]),\n",
    "  },\n",
    "  'batch_size': hp.choice('batch_size', [32]),\n",
    "  'epochs': hp.choice('epochs', [1]),\n",
    "}"
   ]
  },
  {
   "cell_type": "code",
   "execution_count": 6,
   "metadata": {},
   "outputs": [],
   "source": [
    "FULL=False\n",
    "MODEL = 'distilbert-base-uncased' # 'cardiffnlp/twitter-roberta-base-sentiment-latest'\n",
    "TOKENIZER = 'bert-base-uncased'"
   ]
  },
  {
   "cell_type": "code",
   "execution_count": 23,
   "metadata": {},
   "outputs": [
    {
     "name": "stdout",
     "output_type": "stream",
     "text": [
      "{'batch_size': 32, 'epochs': 1, 'preprocessing': {'lemmatize': True, 'remove_stopwords': True, 'remove_tags': False, 'tokenize': True}}\n",
      "  0%|          | 0/16 [00:00<?, ?trial/s, best loss=?]"
     ]
    },
    {
     "name": "stderr",
     "output_type": "stream",
     "text": [
      "job exception: 'DataFrame' object has no attribute 'x'\n",
      "\n"
     ]
    },
    {
     "name": "stdout",
     "output_type": "stream",
     "text": [
      "  0%|          | 0/16 [00:00<?, ?trial/s, best loss=?]\n"
     ]
    },
    {
     "ename": "AttributeError",
     "evalue": "'DataFrame' object has no attribute 'x'",
     "output_type": "error",
     "traceback": [
      "\u001b[0;31m---------------------------------------------------------------------------\u001b[0m",
      "\u001b[0;31mAttributeError\u001b[0m                            Traceback (most recent call last)",
      "\u001b[1;32m/Users/jonas/Projects/others/twitter-sentiment-classification/bert_preprocessing.ipynb Cell 7\u001b[0m in \u001b[0;36m<cell line: 2>\u001b[0;34m()\u001b[0m\n\u001b[1;32m      <a href='vscode-notebook-cell:/Users/jonas/Projects/others/twitter-sentiment-classification/bert_preprocessing.ipynb#ch0000006?line=0'>1</a>\u001b[0m fmin_objective \u001b[39m=\u001b[39m partial(objective, model_name\u001b[39m=\u001b[39mMODEL, tokenizer_name\u001b[39m=\u001b[39mTOKENIZER, device\u001b[39m=\u001b[39mdevice, full\u001b[39m=\u001b[39mFULL)\n\u001b[0;32m----> <a href='vscode-notebook-cell:/Users/jonas/Projects/others/twitter-sentiment-classification/bert_preprocessing.ipynb#ch0000006?line=1'>2</a>\u001b[0m best \u001b[39m=\u001b[39m fmin(fmin_objective, space, algo\u001b[39m=\u001b[39;49mtpe\u001b[39m.\u001b[39;49msuggest, max_evals\u001b[39m=\u001b[39;49m\u001b[39m16\u001b[39;49m)\n",
      "File \u001b[0;32m~/Projects/others/twitter-sentiment-classification/venv/lib/python3.9/site-packages/hyperopt/fmin.py:586\u001b[0m, in \u001b[0;36mfmin\u001b[0;34m(fn, space, algo, max_evals, timeout, loss_threshold, trials, rstate, allow_trials_fmin, pass_expr_memo_ctrl, catch_eval_exceptions, verbose, return_argmin, points_to_evaluate, max_queue_len, show_progressbar, early_stop_fn, trials_save_file)\u001b[0m\n\u001b[1;32m    583\u001b[0m rval\u001b[39m.\u001b[39mcatch_eval_exceptions \u001b[39m=\u001b[39m catch_eval_exceptions\n\u001b[1;32m    585\u001b[0m \u001b[39m# next line is where the fmin is actually executed\u001b[39;00m\n\u001b[0;32m--> 586\u001b[0m rval\u001b[39m.\u001b[39;49mexhaust()\n\u001b[1;32m    588\u001b[0m \u001b[39mif\u001b[39;00m return_argmin:\n\u001b[1;32m    589\u001b[0m     \u001b[39mif\u001b[39;00m \u001b[39mlen\u001b[39m(trials\u001b[39m.\u001b[39mtrials) \u001b[39m==\u001b[39m \u001b[39m0\u001b[39m:\n",
      "File \u001b[0;32m~/Projects/others/twitter-sentiment-classification/venv/lib/python3.9/site-packages/hyperopt/fmin.py:364\u001b[0m, in \u001b[0;36mFMinIter.exhaust\u001b[0;34m(self)\u001b[0m\n\u001b[1;32m    362\u001b[0m \u001b[39mdef\u001b[39;00m \u001b[39mexhaust\u001b[39m(\u001b[39mself\u001b[39m):\n\u001b[1;32m    363\u001b[0m     n_done \u001b[39m=\u001b[39m \u001b[39mlen\u001b[39m(\u001b[39mself\u001b[39m\u001b[39m.\u001b[39mtrials)\n\u001b[0;32m--> 364\u001b[0m     \u001b[39mself\u001b[39;49m\u001b[39m.\u001b[39;49mrun(\u001b[39mself\u001b[39;49m\u001b[39m.\u001b[39;49mmax_evals \u001b[39m-\u001b[39;49m n_done, block_until_done\u001b[39m=\u001b[39;49m\u001b[39mself\u001b[39;49m\u001b[39m.\u001b[39;49masynchronous)\n\u001b[1;32m    365\u001b[0m     \u001b[39mself\u001b[39m\u001b[39m.\u001b[39mtrials\u001b[39m.\u001b[39mrefresh()\n\u001b[1;32m    366\u001b[0m     \u001b[39mreturn\u001b[39;00m \u001b[39mself\u001b[39m\n",
      "File \u001b[0;32m~/Projects/others/twitter-sentiment-classification/venv/lib/python3.9/site-packages/hyperopt/fmin.py:300\u001b[0m, in \u001b[0;36mFMinIter.run\u001b[0;34m(self, N, block_until_done)\u001b[0m\n\u001b[1;32m    297\u001b[0m     time\u001b[39m.\u001b[39msleep(\u001b[39mself\u001b[39m\u001b[39m.\u001b[39mpoll_interval_secs)\n\u001b[1;32m    298\u001b[0m \u001b[39melse\u001b[39;00m:\n\u001b[1;32m    299\u001b[0m     \u001b[39m# -- loop over trials and do the jobs directly\u001b[39;00m\n\u001b[0;32m--> 300\u001b[0m     \u001b[39mself\u001b[39;49m\u001b[39m.\u001b[39;49mserial_evaluate()\n\u001b[1;32m    302\u001b[0m \u001b[39mself\u001b[39m\u001b[39m.\u001b[39mtrials\u001b[39m.\u001b[39mrefresh()\n\u001b[1;32m    303\u001b[0m \u001b[39mif\u001b[39;00m \u001b[39mself\u001b[39m\u001b[39m.\u001b[39mtrials_save_file \u001b[39m!=\u001b[39m \u001b[39m\"\u001b[39m\u001b[39m\"\u001b[39m:\n",
      "File \u001b[0;32m~/Projects/others/twitter-sentiment-classification/venv/lib/python3.9/site-packages/hyperopt/fmin.py:178\u001b[0m, in \u001b[0;36mFMinIter.serial_evaluate\u001b[0;34m(self, N)\u001b[0m\n\u001b[1;32m    176\u001b[0m ctrl \u001b[39m=\u001b[39m base\u001b[39m.\u001b[39mCtrl(\u001b[39mself\u001b[39m\u001b[39m.\u001b[39mtrials, current_trial\u001b[39m=\u001b[39mtrial)\n\u001b[1;32m    177\u001b[0m \u001b[39mtry\u001b[39;00m:\n\u001b[0;32m--> 178\u001b[0m     result \u001b[39m=\u001b[39m \u001b[39mself\u001b[39;49m\u001b[39m.\u001b[39;49mdomain\u001b[39m.\u001b[39;49mevaluate(spec, ctrl)\n\u001b[1;32m    179\u001b[0m \u001b[39mexcept\u001b[39;00m \u001b[39mException\u001b[39;00m \u001b[39mas\u001b[39;00m e:\n\u001b[1;32m    180\u001b[0m     logger\u001b[39m.\u001b[39merror(\u001b[39m\"\u001b[39m\u001b[39mjob exception: \u001b[39m\u001b[39m%s\u001b[39;00m\u001b[39m\"\u001b[39m \u001b[39m%\u001b[39m \u001b[39mstr\u001b[39m(e))\n",
      "File \u001b[0;32m~/Projects/others/twitter-sentiment-classification/venv/lib/python3.9/site-packages/hyperopt/base.py:892\u001b[0m, in \u001b[0;36mDomain.evaluate\u001b[0;34m(self, config, ctrl, attach_attachments)\u001b[0m\n\u001b[1;32m    883\u001b[0m \u001b[39melse\u001b[39;00m:\n\u001b[1;32m    884\u001b[0m     \u001b[39m# -- the \"work\" of evaluating `config` can be written\u001b[39;00m\n\u001b[1;32m    885\u001b[0m     \u001b[39m#    either into the pyll part (self.expr)\u001b[39;00m\n\u001b[1;32m    886\u001b[0m     \u001b[39m#    or the normal Python part (self.fn)\u001b[39;00m\n\u001b[1;32m    887\u001b[0m     pyll_rval \u001b[39m=\u001b[39m pyll\u001b[39m.\u001b[39mrec_eval(\n\u001b[1;32m    888\u001b[0m         \u001b[39mself\u001b[39m\u001b[39m.\u001b[39mexpr,\n\u001b[1;32m    889\u001b[0m         memo\u001b[39m=\u001b[39mmemo,\n\u001b[1;32m    890\u001b[0m         print_node_on_error\u001b[39m=\u001b[39m\u001b[39mself\u001b[39m\u001b[39m.\u001b[39mrec_eval_print_node_on_error,\n\u001b[1;32m    891\u001b[0m     )\n\u001b[0;32m--> 892\u001b[0m     rval \u001b[39m=\u001b[39m \u001b[39mself\u001b[39;49m\u001b[39m.\u001b[39;49mfn(pyll_rval)\n\u001b[1;32m    894\u001b[0m \u001b[39mif\u001b[39;00m \u001b[39misinstance\u001b[39m(rval, (\u001b[39mfloat\u001b[39m, \u001b[39mint\u001b[39m, np\u001b[39m.\u001b[39mnumber)):\n\u001b[1;32m    895\u001b[0m     dict_rval \u001b[39m=\u001b[39m {\u001b[39m\"\u001b[39m\u001b[39mloss\u001b[39m\u001b[39m\"\u001b[39m: \u001b[39mfloat\u001b[39m(rval), \u001b[39m\"\u001b[39m\u001b[39mstatus\u001b[39m\u001b[39m\"\u001b[39m: STATUS_OK}\n",
      "File \u001b[0;32m~/Projects/others/twitter-sentiment-classification/bert/__init__.py:100\u001b[0m, in \u001b[0;36mobjective\u001b[0;34m(args, model_name, tokenizer_name, device, full)\u001b[0m\n\u001b[1;32m     98\u001b[0m \u001b[39mdef\u001b[39;00m \u001b[39mobjective\u001b[39m(args, model_name, tokenizer_name, device, full\u001b[39m=\u001b[39m\u001b[39mFalse\u001b[39;00m):\n\u001b[1;32m     99\u001b[0m   \u001b[39mprint\u001b[39m(args)\n\u001b[0;32m--> 100\u001b[0m   _, metrics \u001b[39m=\u001b[39m train(model_name, tokenizer_name, device, full\u001b[39m=\u001b[39;49mfull, \u001b[39m*\u001b[39;49m\u001b[39m*\u001b[39;49margs)\n\u001b[1;32m    101\u001b[0m   \u001b[39mreturn\u001b[39;00m \u001b[39m-\u001b[39mmetrics[\u001b[39m'\u001b[39m\u001b[39maccuracy\u001b[39m\u001b[39m'\u001b[39m]\n",
      "File \u001b[0;32m~/Projects/others/twitter-sentiment-classification/bert/__init__.py:51\u001b[0m, in \u001b[0;36mtrain\u001b[0;34m(model_name, tokenizer_name, device, full, preprocessing, batch_size, epochs, force_tokenize)\u001b[0m\n\u001b[1;32m     50\u001b[0m \u001b[39mdef\u001b[39;00m \u001b[39mtrain\u001b[39m(model_name, tokenizer_name, device, full\u001b[39m=\u001b[39m\u001b[39mFalse\u001b[39;00m, preprocessing\u001b[39m=\u001b[39m\u001b[39mNone\u001b[39;00m, batch_size\u001b[39m=\u001b[39m\u001b[39m32\u001b[39m, epochs\u001b[39m=\u001b[39m\u001b[39m1\u001b[39m, force_tokenize\u001b[39m=\u001b[39m\u001b[39mTrue\u001b[39;00m):\n\u001b[0;32m---> 51\u001b[0m   dataset_train, dataset_val \u001b[39m=\u001b[39m load(full\u001b[39m=\u001b[39;49mfull, preprocessing\u001b[39m=\u001b[39;49mpreprocessing)\n\u001b[1;32m     53\u001b[0m   tokenizer \u001b[39m=\u001b[39m AutoTokenizer\u001b[39m.\u001b[39mfrom_pretrained(tokenizer_name)\n\u001b[1;32m     54\u001b[0m   train_tokenized \u001b[39m=\u001b[39m tokenize(\n\u001b[1;32m     55\u001b[0m     dataset_train,\n\u001b[1;32m     56\u001b[0m     tokenizer,\n\u001b[1;32m     57\u001b[0m     path\u001b[39m=\u001b[39m\u001b[39mf\u001b[39m\u001b[39m'\u001b[39m\u001b[39mbert/cache/train_tokenized__\u001b[39m\u001b[39m{\u001b[39;00mtokenizer_name\u001b[39m}\u001b[39;00m\u001b[39m{\u001b[39;00m\u001b[39m\"\u001b[39m\u001b[39m__full\u001b[39m\u001b[39m\"\u001b[39m \u001b[39mif\u001b[39;00m full \u001b[39melse\u001b[39;00m \u001b[39m\"\u001b[39m\u001b[39m\"\u001b[39m\u001b[39m}\u001b[39;00m\u001b[39m'\u001b[39m,\n\u001b[1;32m     58\u001b[0m     force\u001b[39m=\u001b[39mforce_tokenize)\n",
      "File \u001b[0;32m~/Projects/others/twitter-sentiment-classification/bert/__init__.py:14\u001b[0m, in \u001b[0;36mload\u001b[0;34m(full, preprocessing)\u001b[0m\n\u001b[1;32m     11\u001b[0m \u001b[39mdef\u001b[39;00m \u001b[39mload\u001b[39m(full\u001b[39m=\u001b[39m\u001b[39mFalse\u001b[39;00m, preprocessing\u001b[39m=\u001b[39m\u001b[39mNone\u001b[39;00m):\n\u001b[1;32m     12\u001b[0m   df_train, df_val \u001b[39m=\u001b[39m load_train(full\u001b[39m=\u001b[39mfull, eval_frac\u001b[39m=\u001b[39m\u001b[39m0.2\u001b[39m, x_col\u001b[39m=\u001b[39m\u001b[39m'\u001b[39m\u001b[39mtext\u001b[39m\u001b[39m'\u001b[39m, y_col\u001b[39m=\u001b[39m\u001b[39m'\u001b[39m\u001b[39mlabel\u001b[39m\u001b[39m'\u001b[39m, neg_label\u001b[39m=\u001b[39m\u001b[39m0\u001b[39m, pos_label\u001b[39m=\u001b[39m\u001b[39m1\u001b[39m)\n\u001b[0;32m---> 14\u001b[0m   preprocess(df_train, flags\u001b[39m=\u001b[39;49mpreprocessing)\n\u001b[1;32m     15\u001b[0m   preprocess(df_val, flags\u001b[39m=\u001b[39mpreprocessing)\n\u001b[1;32m     17\u001b[0m   dataset_train \u001b[39m=\u001b[39m Dataset\u001b[39m.\u001b[39mfrom_pandas(df_train)\n",
      "File \u001b[0;32m~/Projects/others/twitter-sentiment-classification/preprocessing.py:33\u001b[0m, in \u001b[0;36mpreprocess\u001b[0;34m(df, flags)\u001b[0m\n\u001b[1;32m     31\u001b[0m   remove_tags(df)\n\u001b[1;32m     32\u001b[0m \u001b[39mif\u001b[39;00m flags[\u001b[39m'\u001b[39m\u001b[39mtokenize\u001b[39m\u001b[39m'\u001b[39m]:\n\u001b[0;32m---> 33\u001b[0m   tokenize(df)\n\u001b[1;32m     34\u001b[0m \u001b[39mif\u001b[39;00m flags[\u001b[39m'\u001b[39m\u001b[39mremove_stopwords\u001b[39m\u001b[39m'\u001b[39m]:\n\u001b[1;32m     35\u001b[0m   remove_stopwords(df)\n",
      "File \u001b[0;32m~/Projects/others/twitter-sentiment-classification/preprocessing.py:19\u001b[0m, in \u001b[0;36mtokenize\u001b[0;34m(df)\u001b[0m\n\u001b[1;32m     18\u001b[0m \u001b[39mdef\u001b[39;00m \u001b[39mtokenize\u001b[39m(df: pd\u001b[39m.\u001b[39mDataFrame):\n\u001b[0;32m---> 19\u001b[0m   df[\u001b[39m'\u001b[39m\u001b[39mx\u001b[39m\u001b[39m'\u001b[39m] \u001b[39m=\u001b[39m df\u001b[39m.\u001b[39;49mx\u001b[39m.\u001b[39mapply(\u001b[39mlambda\u001b[39;00m sentence: tokenizer\u001b[39m.\u001b[39mtokenize(sentence))\n",
      "File \u001b[0;32m~/Projects/others/twitter-sentiment-classification/venv/lib/python3.9/site-packages/pandas/core/generic.py:5575\u001b[0m, in \u001b[0;36mNDFrame.__getattr__\u001b[0;34m(self, name)\u001b[0m\n\u001b[1;32m   5568\u001b[0m \u001b[39mif\u001b[39;00m (\n\u001b[1;32m   5569\u001b[0m     name \u001b[39mnot\u001b[39;00m \u001b[39min\u001b[39;00m \u001b[39mself\u001b[39m\u001b[39m.\u001b[39m_internal_names_set\n\u001b[1;32m   5570\u001b[0m     \u001b[39mand\u001b[39;00m name \u001b[39mnot\u001b[39;00m \u001b[39min\u001b[39;00m \u001b[39mself\u001b[39m\u001b[39m.\u001b[39m_metadata\n\u001b[1;32m   5571\u001b[0m     \u001b[39mand\u001b[39;00m name \u001b[39mnot\u001b[39;00m \u001b[39min\u001b[39;00m \u001b[39mself\u001b[39m\u001b[39m.\u001b[39m_accessors\n\u001b[1;32m   5572\u001b[0m     \u001b[39mand\u001b[39;00m \u001b[39mself\u001b[39m\u001b[39m.\u001b[39m_info_axis\u001b[39m.\u001b[39m_can_hold_identifiers_and_holds_name(name)\n\u001b[1;32m   5573\u001b[0m ):\n\u001b[1;32m   5574\u001b[0m     \u001b[39mreturn\u001b[39;00m \u001b[39mself\u001b[39m[name]\n\u001b[0;32m-> 5575\u001b[0m \u001b[39mreturn\u001b[39;00m \u001b[39mobject\u001b[39;49m\u001b[39m.\u001b[39;49m\u001b[39m__getattribute__\u001b[39;49m(\u001b[39mself\u001b[39;49m, name)\n",
      "\u001b[0;31mAttributeError\u001b[0m: 'DataFrame' object has no attribute 'x'"
     ]
    }
   ],
   "source": [
    "fmin_objective = partial(objective, model_name=MODEL, tokenizer_name=TOKENIZER, device=device, full=FULL)\n",
    "best = fmin(fmin_objective, space, algo=tpe.suggest, max_evals=16)"
   ]
  },
  {
   "cell_type": "code",
   "execution_count": 10,
   "metadata": {},
   "outputs": [
    {
     "ename": "NameError",
     "evalue": "name 'best' is not defined",
     "output_type": "error",
     "traceback": [
      "\u001b[0;31m---------------------------------------------------------------------------\u001b[0m",
      "\u001b[0;31mNameError\u001b[0m                                 Traceback (most recent call last)",
      "\u001b[1;32m/home/jonhue/projects/jonhue/twitter-sentiment-classification/bert_preprocessing.ipynb Cell 8\u001b[0m in \u001b[0;36m<cell line: 1>\u001b[0;34m()\u001b[0m\n\u001b[0;32m----> <a href='vscode-notebook-cell://wsl%2Bubuntu/home/jonhue/projects/jonhue/twitter-sentiment-classification/bert_preprocessing.ipynb#ch0000007vscode-remote?line=0'>1</a>\u001b[0m best\n",
      "\u001b[0;31mNameError\u001b[0m: name 'best' is not defined"
     ]
    }
   ],
   "source": [
    "best"
   ]
  },
  {
   "cell_type": "code",
   "execution_count": null,
   "metadata": {},
   "outputs": [],
   "source": []
  }
 ],
 "metadata": {
  "kernelspec": {
   "display_name": "Python 3.9.13 ('venv': venv)",
   "language": "python",
   "name": "python3"
  },
  "language_info": {
   "codemirror_mode": {
    "name": "ipython",
    "version": 3
   },
   "file_extension": ".py",
   "mimetype": "text/x-python",
   "name": "python",
   "nbconvert_exporter": "python",
   "pygments_lexer": "ipython3",
   "version": "3.9.13"
  },
  "orig_nbformat": 4,
  "vscode": {
   "interpreter": {
    "hash": "60c0dbeaf21558ddf50266f36cb8b3959a1efdbf8c1538f21831715a494e0c8d"
   }
  }
 },
 "nbformat": 4,
 "nbformat_minor": 2
}
